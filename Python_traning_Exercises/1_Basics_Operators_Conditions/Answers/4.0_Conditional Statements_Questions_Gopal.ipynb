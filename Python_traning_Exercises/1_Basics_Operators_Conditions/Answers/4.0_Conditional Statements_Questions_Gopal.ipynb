{
 "cells": [
  {
   "cell_type": "code",
   "execution_count": 4,
   "metadata": {},
   "outputs": [
    {
     "name": "stdout",
     "output_type": "stream",
     "text": [
      "number is odd\n"
     ]
    }
   ],
   "source": [
    "# Write a program to find given number is odd or even \n",
    "x = 45\n",
    "#Your Answer\n",
    "\n",
    "num=x\n",
    "num = int(num % 2)\n",
    "\n",
    "if num==0:\n",
    "    print('number is even')\n",
    "elif num!=0:\n",
    "    print('number is odd')\n",
    "\n",
    "\n",
    "\n",
    "\n",
    "\n",
    "\n"
   ]
  },
  {
   "cell_type": "code",
   "execution_count": 5,
   "metadata": {},
   "outputs": [
    {
     "name": "stdout",
     "output_type": "stream",
     "text": [
      "Given year is leap year\n"
     ]
    }
   ],
   "source": [
    "#Write a program to find the given year is leap year or not\n",
    "year = 2020\n",
    "#Your Answer\n",
    "num4 =int(year % 4)\n",
    "num100 = int(year % 100)\n",
    "num400 = int(year % 400)\n",
    "\n",
    "if (num4==0) and (num100==0):\n",
    "    if (num400==0):\n",
    "        print('Given year is leap year')\n",
    "    else:\n",
    "        print('Given year is NOT a leap year')\n",
    "elif (num4==0) and (num100!=0):\n",
    "    print('Given year is leap year')\n",
    "else:\n",
    "    print('Given year is NOT a leap year')\n",
    "\n",
    "\n",
    "\n",
    "\n",
    "\n"
   ]
  },
  {
   "cell_type": "code",
   "execution_count": 2,
   "metadata": {},
   "outputs": [
    {
     "name": "stdout",
     "output_type": "stream",
     "text": [
      "Enter your age :18\n",
      "You can Vote\n"
     ]
    }
   ],
   "source": [
    "# Write a program to print \"You can Vote\" or \"You Cannot Vote\n",
    "\n",
    "age=float(input('Enter your age :'))\n",
    "if age >=18:\n",
    "    print('You can Vote')\n",
    "else:\n",
    "    print('You cannot vote')\n",
    "\n",
    "\n",
    "\n"
   ]
  },
  {
   "cell_type": "code",
   "execution_count": 6,
   "metadata": {},
   "outputs": [
    {
     "name": "stdout",
     "output_type": "stream",
     "text": [
      "Enter input number a:3\n",
      "Enter input number b:4\n",
      "Enter input number c:5\n",
      "c is greater\n"
     ]
    }
   ],
   "source": [
    "# Write a program to find greatest of three numbers\n",
    "num1=int(input('Enter input number a:'))\n",
    "num2=int(input('Enter input number b:'))\n",
    "num3=int(input('Enter input number c:'))\n",
    "\n",
    "if num1 > num2:\n",
    "    if num1 > num3:\n",
    "        print('a is greater')\n",
    "elif num2 > num3:\n",
    "    print('b is greater')\n",
    "else:\n",
    "    print('c is greater')\n",
    "\n",
    "\n",
    "\n",
    "\n",
    "\n",
    "\n"
   ]
  },
  {
   "cell_type": "code",
   "execution_count": 8,
   "metadata": {},
   "outputs": [
    {
     "name": "stdout",
     "output_type": "stream",
     "text": [
      "Enter input number a:1000\n",
      "Enter input number b:1000\n",
      "Enter input number c:0\n",
      "great\n"
     ]
    }
   ],
   "source": [
    "#Write a program to print \"Super\" if the sum of number is \"less\" than 1000 and \"great\" if the sum of number is greater than 1000\n",
    "num1=int(input('Enter input number a:'))\n",
    "num2=int(input('Enter input number b:'))\n",
    "num3=int(input('Enter input number c:'))\n",
    "sum=num1+num2+num3\n",
    "if (sum <= 1000):\n",
    "    print('super')\n",
    "elif sum>1000:\n",
    "    print('great')\n"
   ]
  },
  {
   "cell_type": "markdown",
   "metadata": {},
   "source": []
  }
 ],
 "metadata": {
  "kernelspec": {
   "display_name": "Python 3 (ipykernel)",
   "language": "python",
   "name": "python3"
  },
  "language_info": {
   "codemirror_mode": {
    "name": "ipython",
    "version": 3
   },
   "file_extension": ".py",
   "mimetype": "text/x-python",
   "name": "python",
   "nbconvert_exporter": "python",
   "pygments_lexer": "ipython3",
   "version": "3.10.9"
  }
 },
 "nbformat": 4,
 "nbformat_minor": 2
}

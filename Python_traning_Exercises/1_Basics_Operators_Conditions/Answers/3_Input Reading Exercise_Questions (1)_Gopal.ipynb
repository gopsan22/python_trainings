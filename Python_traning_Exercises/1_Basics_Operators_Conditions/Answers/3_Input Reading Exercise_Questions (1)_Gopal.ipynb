{
 "cells": [
  {
   "cell_type": "code",
   "execution_count": 2,
   "metadata": {},
   "outputs": [],
   "source": [
    "# Write a program to hours to minutes , user should able to give hours as input\n"
   ]
  },
  {
   "cell_type": "code",
   "execution_count": 5,
   "metadata": {},
   "outputs": [
    {
     "name": "stdout",
     "output_type": "stream",
     "text": [
      "Enter the hours :6\n",
      "6.0 hours is equivalent to 360.0 minutes\n"
     ]
    }
   ],
   "source": [
    "hours=float(input('Enter the hours :'))\n",
    "\n",
    "minutes=float(hours * 60)\n",
    "\n",
    "print(hours,'hours','is equivalent to',minutes,'minutes')"
   ]
  },
  {
   "cell_type": "code",
   "execution_count": 1,
   "metadata": {},
   "outputs": [
    {
     "name": "stdout",
     "output_type": "stream",
     "text": [
      "Enter the centerimeter : 100\n",
      "The meter for above equivalent centimeter is  1.0\n"
     ]
    }
   ],
   "source": [
    "# Write a program to convert centimeter to meter , user shoulb be able to give centimeter as input\n",
    "\n",
    "# your Answer\n",
    "\n",
    "\n"
   ]
  },
  {
   "cell_type": "code",
   "execution_count": 7,
   "metadata": {},
   "outputs": [
    {
     "name": "stdout",
     "output_type": "stream",
     "text": [
      "Enter the centimeter :500\n",
      "The meter for above equivalent centimeter is  5.0\n"
     ]
    }
   ],
   "source": [
    "centi=float(input('Enter the centimeter :'))\n",
    "print('The meter for above equivalent centimeter is ',centi/100)"
   ]
  },
  {
   "cell_type": "code",
   "execution_count": 2,
   "metadata": {},
   "outputs": [
    {
     "name": "stdout",
     "output_type": "stream",
     "text": [
      "Ente the miles10\n",
      "The equivalent kilometer for miles is   16.0\n"
     ]
    }
   ],
   "source": [
    "# Write a program to convert miles to Kilometer , user shoulb be able to give miles as input\n",
    "\n",
    "# your Answer\n",
    "\n",
    "\n",
    "\n",
    "\n",
    "\n"
   ]
  },
  {
   "cell_type": "code",
   "execution_count": 9,
   "metadata": {},
   "outputs": [
    {
     "name": "stdout",
     "output_type": "stream",
     "text": [
      "Enter the miles :1000\n",
      "The equivalent kilometer for miles is  1600.0\n"
     ]
    }
   ],
   "source": [
    "miles=float(input('Enter the miles :'))\n",
    "print('The equivalent kilometer for miles is ',float(miles*1.6))"
   ]
  },
  {
   "cell_type": "code",
   "execution_count": 4,
   "metadata": {},
   "outputs": [],
   "source": [
    "# Write a program to convert pounds to Kilogram , user shoulb be able to give pounds as input\n",
    "\n",
    "# your Answer\n",
    "\n",
    "\n",
    "\n",
    "\n",
    "\n"
   ]
  },
  {
   "cell_type": "code",
   "execution_count": 12,
   "metadata": {},
   "outputs": [
    {
     "name": "stdout",
     "output_type": "stream",
     "text": [
      "Enter the pound :10\n",
      "The equivalent kilogram for pound is  4.5\n"
     ]
    }
   ],
   "source": [
    "0.45359237\n",
    "pound=float(input('Enter the pound :'))\n",
    "print('The equivalent kilogram for pound is ',float(pound*0.45))"
   ]
  },
  {
   "cell_type": "code",
   "execution_count": 5,
   "metadata": {},
   "outputs": [],
   "source": [
    "# Write a program to calculate simple interest # all input shoulb be given by the user\n",
    "\n",
    "# your Answer\n",
    "\n",
    "\n",
    "\n",
    "\n",
    "\n"
   ]
  },
  {
   "cell_type": "code",
   "execution_count": 13,
   "metadata": {},
   "outputs": [
    {
     "name": "stdout",
     "output_type": "stream",
     "text": [
      "Enter value principal:50000\n",
      "Enter value num_yrs:3\n",
      "Enter the Rate:4.5\n",
      "Simple Interest = 6750.0\n"
     ]
    }
   ],
   "source": [
    "p=float(input('Enter value principal:'))\n",
    "n=float(input('Enter value num_yrs:'))\n",
    "r=float(input('Enter the Rate:'))\n",
    "\n",
    "si = (p*n*r)/100\n",
    "\n",
    "print('Simple Interest =',si)\n"
   ]
  },
  {
   "cell_type": "code",
   "execution_count": 6,
   "metadata": {},
   "outputs": [],
   "source": [
    "# Write a program to calculate area of circle\n",
    "\n",
    "# your Answer\n",
    "\n",
    "\n",
    "\n",
    "\n",
    "\n"
   ]
  },
  {
   "cell_type": "code",
   "execution_count": 18,
   "metadata": {},
   "outputs": [
    {
     "name": "stdout",
     "output_type": "stream",
     "text": [
      "Enter value radius:2.5\n",
      "Area : 19.625\n"
     ]
    }
   ],
   "source": [
    "r=float(input('Enter value radius:'))\n",
    "area=float(3.14*r*r)\n",
    "\n",
    "print('Area :',area)"
   ]
  },
  {
   "cell_type": "code",
   "execution_count": 7,
   "metadata": {},
   "outputs": [],
   "source": [
    "# Write a program to calculate circumference of circle\n",
    "\n",
    "# your Answer\n",
    "\n",
    "\n",
    "\n",
    "\n",
    "\n",
    "\n"
   ]
  },
  {
   "cell_type": "code",
   "execution_count": 21,
   "metadata": {},
   "outputs": [
    {
     "name": "stdout",
     "output_type": "stream",
     "text": [
      "Enter value radius:2.5\n",
      "circumference : 15.700000000000001\n"
     ]
    }
   ],
   "source": [
    "r=float(input('Enter value radius:'))\n",
    "circumference=(2*3.14*r)\n",
    "\n",
    "print('circumference :',circumference)"
   ]
  },
  {
   "cell_type": "code",
   "execution_count": 8,
   "metadata": {},
   "outputs": [],
   "source": [
    "# Write a program to calculate perimeter of square\n",
    "\n",
    "# your Answer\n",
    "\n",
    "\n",
    "\n",
    "\n",
    "\n"
   ]
  },
  {
   "cell_type": "code",
   "execution_count": 26,
   "metadata": {},
   "outputs": [
    {
     "name": "stdout",
     "output_type": "stream",
     "text": [
      "Enter length of a side in square :5\n",
      "perimeter of square 20.0\n"
     ]
    }
   ],
   "source": [
    "\n",
    "s=float(input('Enter length of a side in square :'))\n",
    "perimeter=(4*s)\n",
    "\n",
    "print('perimeter of square',perimeter)"
   ]
  },
  {
   "cell_type": "code",
   "execution_count": 10,
   "metadata": {},
   "outputs": [],
   "source": [
    "# Write a program to calculate area of square\n",
    "\n",
    "# your Answer\n",
    "\n",
    "\n",
    "\n",
    "\n",
    "\n"
   ]
  },
  {
   "cell_type": "code",
   "execution_count": 27,
   "metadata": {},
   "outputs": [
    {
     "name": "stdout",
     "output_type": "stream",
     "text": [
      "Enter length of a side in square :4\n",
      "area of square 16.0\n"
     ]
    }
   ],
   "source": [
    "s=float(input('Enter length of a side in square :'))\n",
    "area=(s**2)\n",
    "\n",
    "print('area of square',area)"
   ]
  },
  {
   "cell_type": "code",
   "execution_count": null,
   "metadata": {},
   "outputs": [],
   "source": [
    "# Write a program to area of traingle\n",
    "\n",
    "# your Answer"
   ]
  },
  {
   "cell_type": "code",
   "execution_count": 29,
   "metadata": {},
   "outputs": [
    {
     "name": "stdout",
     "output_type": "stream",
     "text": [
      "Enter base of triangle :3\n",
      "Enter height of triangle :4\n",
      "area of triangle 6.0\n"
     ]
    }
   ],
   "source": [
    "b=float(input('Enter base of triangle :'))\n",
    "h=float(input('Enter height of triangle :'))\n",
    "area=(1/2 * b *h)\n",
    "\n",
    "print('area of triangle',area)"
   ]
  },
  {
   "cell_type": "code",
   "execution_count": null,
   "metadata": {},
   "outputs": [],
   "source": []
  }
 ],
 "metadata": {
  "kernelspec": {
   "display_name": "Python 3 (ipykernel)",
   "language": "python",
   "name": "python3"
  },
  "language_info": {
   "codemirror_mode": {
    "name": "ipython",
    "version": 3
   },
   "file_extension": ".py",
   "mimetype": "text/x-python",
   "name": "python",
   "nbconvert_exporter": "python",
   "pygments_lexer": "ipython3",
   "version": "3.10.9"
  }
 },
 "nbformat": 4,
 "nbformat_minor": 2
}

{
 "cells": [
  {
   "cell_type": "code",
   "execution_count": 1,
   "metadata": {},
   "outputs": [],
   "source": [
    "# write a program to add two  integers 10 , 20"
   ]
  },
  {
   "cell_type": "code",
   "execution_count": 3,
   "metadata": {},
   "outputs": [
    {
     "name": "stdout",
     "output_type": "stream",
     "text": [
      "Enter first integer:10\n",
      "Enter second integer:20\n",
      "30\n"
     ]
    }
   ],
   "source": [
    "a=int(input('Enter first integer:'))\n",
    "b=int(input('Enter second integer:'))\n",
    "c = a+b\n",
    "print(c)"
   ]
  },
  {
   "cell_type": "code",
   "execution_count": 2,
   "metadata": {},
   "outputs": [],
   "source": [
    "# Write a program to find the type of a, b ,c where a=2, b=2.8,c=\"John\""
   ]
  },
  {
   "cell_type": "code",
   "execution_count": 11,
   "metadata": {},
   "outputs": [
    {
     "name": "stdout",
     "output_type": "stream",
     "text": [
      "Enter value a:2\n",
      "Enter value b:2.8\n",
      "Enter value c:john\n",
      "type of a: <class 'int'> \n",
      "type of b: <class 'float'> \n",
      "type of c: <class 'str'>\n"
     ]
    }
   ],
   "source": [
    "a=int(input('Enter value a:'))\n",
    "b=float(input('Enter value b:'))\n",
    "c=input('Enter value c:')\n",
    "print('type of a:',type(a), '\\ntype of b:',type(b),'\\ntype of c:',type(c))"
   ]
  },
  {
   "cell_type": "code",
   "execution_count": 10,
   "metadata": {},
   "outputs": [],
   "source": [
    "# Write a program to swap the two numbers , where a=2 ,b=4 the program should print a= 4 ,b=2"
   ]
  },
  {
   "cell_type": "code",
   "execution_count": 12,
   "metadata": {},
   "outputs": [
    {
     "name": "stdout",
     "output_type": "stream",
     "text": [
      "Enter value a:2\n",
      "Enter value b:4\n",
      "a= 4\n",
      "b= 2\n"
     ]
    }
   ],
   "source": [
    "a=int(input('Enter value a:'))\n",
    "b=int(input('Enter value b:'))\n",
    "\n",
    "a,b = b, a\n",
    "print(\"a=\",a)\n",
    "print(\"b=\",b)"
   ]
  },
  {
   "cell_type": "code",
   "execution_count": 4,
   "metadata": {},
   "outputs": [],
   "source": [
    "# Write a program to swap the two numbers , using 3 variables"
   ]
  },
  {
   "cell_type": "code",
   "execution_count": 13,
   "metadata": {},
   "outputs": [
    {
     "name": "stdout",
     "output_type": "stream",
     "text": [
      "Enter value a:2\n",
      "Enter value b:4\n",
      "a= 4\n",
      "b= 2\n"
     ]
    }
   ],
   "source": [
    "a=int(input('Enter value a:'))\n",
    "b=int(input('Enter value b:'))\n",
    "\n",
    "c = b\n",
    "b = a\n",
    "a = c\n",
    "\n",
    "#a,b = b, a\n",
    "print(\"a=\",a)\n",
    "print(\"b=\",b)\n"
   ]
  },
  {
   "cell_type": "code",
   "execution_count": 5,
   "metadata": {},
   "outputs": [],
   "source": [
    "# Write a program to print the numerator and denominator , quotient and remainder"
   ]
  },
  {
   "cell_type": "code",
   "execution_count": 38,
   "metadata": {},
   "outputs": [
    {
     "name": "stdout",
     "output_type": "stream",
     "text": [
      "Enter numerator:8\n",
      "Enter denominator:4\n",
      "numerator = 8\n",
      "denominator = 4\n",
      "quotient = 2\n",
      "remainder = 0\n"
     ]
    }
   ],
   "source": [
    "numerator=int(input('Enter numerator:'))\n",
    "denominator=int(input('Enter denominator:'))\n",
    "\n",
    "quotient= int(numerator / denominator)\n",
    "remainder= int(numerator % denominator)\n",
    "\n",
    "print(\"numerator =\",numerator)\n",
    "print(\"denominator =\",denominator)\n",
    "print(\"quotient =\",quotient)\n",
    "print(\"remainder =\",remainder)\n"
   ]
  },
  {
   "cell_type": "code",
   "execution_count": 6,
   "metadata": {},
   "outputs": [],
   "source": [
    "# Write a program to calculate simple interst , si =p*n*r/100"
   ]
  },
  {
   "cell_type": "code",
   "execution_count": 23,
   "metadata": {
    "scrolled": true
   },
   "outputs": [
    {
     "name": "stdout",
     "output_type": "stream",
     "text": [
      "Enter value principal:10000\n",
      "Enter value num_yrs:5\n",
      "Enter the Rate:4.5\n",
      "Simple Interest = 2250.0\n"
     ]
    }
   ],
   "source": [
    "p=float(input('Enter value principal:'))\n",
    "n=float(input('Enter value num_yrs:'))\n",
    "r=float(input('Enter the Rate:'))\n",
    "\n",
    "si = (p*n*r)/100\n",
    "\n",
    "print('Simple Interest =',si)\n"
   ]
  },
  {
   "cell_type": "code",
   "execution_count": 7,
   "metadata": {},
   "outputs": [],
   "source": [
    "# Write a program to calculate the area and circumference of a circle ,area=3.14*radius*radius , circumference=2*3.14*r"
   ]
  },
  {
   "cell_type": "code",
   "execution_count": 28,
   "metadata": {},
   "outputs": [
    {
     "name": "stdout",
     "output_type": "stream",
     "text": [
      "Enter value radius:3\n",
      "28.259999999999998\n",
      "18.84\n"
     ]
    }
   ],
   "source": [
    "r=float(input('Enter value radius:'))\n",
    "area=float(3.14*r*r)\n",
    "circumference=float(2*3.14*r)\n",
    "\n",
    "print(area)\n",
    "print(circumference)"
   ]
  },
  {
   "cell_type": "code",
   "execution_count": 25,
   "metadata": {},
   "outputs": [],
   "source": [
    "# Write a program to convert Celcius to Fariehiet , fariienhiet=1.8*celcius+32"
   ]
  },
  {
   "cell_type": "code",
   "execution_count": 32,
   "metadata": {},
   "outputs": [
    {
     "name": "stdout",
     "output_type": "stream",
     "text": [
      "Enter the celcius:37.6\n",
      "farenheit = 99.68\n"
     ]
    }
   ],
   "source": [
    "cel=float(input('Enter the celcius:'))\n",
    "farenhiet = float(1.8*cel+32)\n",
    "\n",
    "print('farenheit =',farenhiet)"
   ]
  },
  {
   "cell_type": "code",
   "execution_count": 9,
   "metadata": {},
   "outputs": [],
   "source": [
    "# Write a program to find whether given number is odd or even"
   ]
  },
  {
   "cell_type": "code",
   "execution_count": 45,
   "metadata": {},
   "outputs": [
    {
     "name": "stdout",
     "output_type": "stream",
     "text": [
      "Enter the number:61\n",
      "number is odd\n"
     ]
    }
   ],
   "source": [
    "num=int(input('Enter the number:'))\n",
    "num = int(num % 2)\n",
    "\n",
    "if num==0:\n",
    "    print('number is even')\n",
    "elif num!=0:\n",
    "    print('number is odd')"
   ]
  },
  {
   "cell_type": "code",
   "execution_count": 36,
   "metadata": {},
   "outputs": [],
   "source": [
    "# Write a program to check whether the person can vote or not"
   ]
  },
  {
   "cell_type": "code",
   "execution_count": 1,
   "metadata": {},
   "outputs": [
    {
     "name": "stdout",
     "output_type": "stream",
     "text": [
      "Enter your age :31\n",
      "You can Vote\n"
     ]
    }
   ],
   "source": [
    "age=float(input('Enter your age :'))\n",
    "if age >=18:\n",
    "    print('You can Vote')\n",
    "else:\n",
    "    print('You cannot vote')"
   ]
  },
  {
   "cell_type": "code",
   "execution_count": 12,
   "metadata": {},
   "outputs": [],
   "source": [
    "# Write a program to find whether the given year is leap year or not ?"
   ]
  },
  {
   "cell_type": "code",
   "execution_count": 87,
   "metadata": {},
   "outputs": [
    {
     "name": "stdout",
     "output_type": "stream",
     "text": [
      "Enter the year:2400\n",
      "Given year is leap year\n"
     ]
    }
   ],
   "source": [
    "year=int(input('Enter the year:'))\n",
    "num4 =int(year % 4)\n",
    "num100 = int(year % 100)\n",
    "num400 = int(year % 400)\n",
    "\n",
    "if (num4==0) and (num100==0):\n",
    "    if (num400==0):\n",
    "        print('Given year is leap year')\n",
    "    else:\n",
    "        print('Given year is NOT a leap year')\n",
    "elif (num4==0) and (num100!=0):\n",
    "    print('Given year is leap year')\n",
    "else:\n",
    "    print('Given year is NOT a leap year')"
   ]
  },
  {
   "cell_type": "code",
   "execution_count": 68,
   "metadata": {},
   "outputs": [],
   "source": [
    "# Write a program to find the bigeest of three numbers"
   ]
  },
  {
   "cell_type": "code",
   "execution_count": 92,
   "metadata": {},
   "outputs": [
    {
     "name": "stdout",
     "output_type": "stream",
     "text": [
      "Enter input number 1:566\n",
      "Enter input number 2:12312\n",
      "Enter input number 3:898\n",
      "12312 is biggest\n"
     ]
    }
   ],
   "source": [
    "num1=int(input('Enter input number 1:'))\n",
    "num2=int(input('Enter input number 2:'))\n",
    "num3=int(input('Enter input number 3:'))\n",
    "\n",
    "if num1 > num2:\n",
    "    if num1 > num3:\n",
    "        print(num1,'is biggest')\n",
    "elif num2 > num3:\n",
    "    print(num2,'is biggest')\n",
    "else:\n",
    "    print(num3,'is biggest')\n"
   ]
  },
  {
   "cell_type": "code",
   "execution_count": null,
   "metadata": {},
   "outputs": [],
   "source": []
  }
 ],
 "metadata": {
  "kernelspec": {
   "display_name": "Python 3 (ipykernel)",
   "language": "python",
   "name": "python3"
  },
  "language_info": {
   "codemirror_mode": {
    "name": "ipython",
    "version": 3
   },
   "file_extension": ".py",
   "mimetype": "text/x-python",
   "name": "python",
   "nbconvert_exporter": "python",
   "pygments_lexer": "ipython3",
   "version": "3.10.9"
  }
 },
 "nbformat": 4,
 "nbformat_minor": 2
}

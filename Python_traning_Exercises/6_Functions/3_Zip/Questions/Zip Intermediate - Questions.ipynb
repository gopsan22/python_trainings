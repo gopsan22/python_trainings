{
 "cells": [
  {
   "cell_type": "markdown",
   "metadata": {},
   "source": [
    "# Zip Intermediate Questions"
   ]
  },
  {
   "cell_type": "code",
   "execution_count": null,
   "metadata": {},
   "outputs": [],
   "source": [
    "1. Write a python program to unzip the values and store it separate variables.\n",
    "    Data:\n",
    "        [('x', 3), ('y', 4), ('z', 5)]\n",
    "    Expected Output:\n",
    "        [('x', 3), ('y', 4), ('z', 5)]\n",
    "        c = ('x', 'y', 'z')\n",
    "        v = (3, 4, 5)\n",
    "        \n",
    "        \n",
    "        \n",
    "        "
   ]
  },
  {
   "cell_type": "code",
   "execution_count": null,
   "metadata": {},
   "outputs": [],
   "source": [
    "2. Write a python program to zip lists of different lengths using cycle().\n",
    "    Data:\n",
    "        ['Carol', 'Ross', 'Rachel']\n",
    "        [ 100, 34, 87, 23, 65 ]\n",
    "    Expected Output:\n",
    "        [('Carol', 100), ('Ross', 34), ('Rachel', 87), ('Carol', 23), ('Ross', 65)]\n",
    "\n",
    "        \n",
    "        \n",
    "        "
   ]
  },
  {
   "cell_type": "code",
   "execution_count": null,
   "metadata": {},
   "outputs": [],
   "source": [
    "3. Write a python program to zip two lists of lists using itertools.chain() + zip() functions.\n",
    "    Data:\n",
    "        [[2, 4], [6, 8], [10, 12]]\n",
    "        [[1, 3], [5, 7], [9, 11]]\n",
    "    Expected Output:\n",
    "        [[2, 4, 1, 3], [6, 8, 5, 7], [10, 12, 9, 11]]\n",
    "        \n",
    "        \n",
    "        \n"
   ]
  },
  {
   "cell_type": "code",
   "execution_count": null,
   "metadata": {},
   "outputs": [],
   "source": [
    "4. Write a Python program to split a given dictionary of lists into list of dictionaries using zip() function.\n",
    "    Data:\n",
    "        marks = {'Science': [98, 19, 22, 55], 'Language': [67, 18, 34, 90]}\n",
    "    Expected Output:\n",
    "        Split said dictionary of lists into list of dictionaries:\n",
    "        [{'Science': 98, 'Language': 67}, {'Science': 19, 'Language': 18}, {'Science': 22, 'Language': 34}, \n",
    "         {'Science': 55, 'Language': 90}]\n",
    "        \n",
    "        \n",
    "        \n",
    "        "
   ]
  },
  {
   "cell_type": "code",
   "execution_count": null,
   "metadata": {},
   "outputs": [],
   "source": [
    "5. Write a Python program to print following output from given list using enumerate() and zip() functions.\n",
    "    Data:\n",
    "        names = ['Boss', 'Suresh', 'Siva']\n",
    "        ages = [24, 50, 18]\n",
    "    Expected Output:\n",
    "        0 Boss 24\n",
    "        1 Suresh 50\n",
    "        2 Siva 18\n",
    "        \n",
    "        \n",
    "        \n",
    "        "
   ]
  },
  {
   "cell_type": "code",
   "execution_count": null,
   "metadata": {},
   "outputs": [],
   "source": [
    "6. Write a python function to zip one key-value pair from dictionary and correspoinding item in a list together.\n",
    "    Data:\n",
    "        {'A':1, 'B':2, 'C':3}\n",
    "    Expected Output:\n",
    "        <zip object at 0x00000285E6345300>\n",
    "        [(('A', 1), 1), (('B', 2), 2), (('C', 3), 3)]\n",
    "        \n",
    "        \n",
    "        \n",
    "        "
   ]
  },
  {
   "cell_type": "code",
   "execution_count": null,
   "metadata": {},
   "outputs": [],
   "source": [
    "7. Write a Python program to map two lists into a dictionary using zip() functions.\n",
    "    Data:\n",
    "        keys = ['red', 'green', 'blue']\n",
    "        values = ['#FF0000','#008000', '#0000FF']\n",
    "    Expected Output:\n",
    "        {'red': '#FF0000', 'green': '#008000', 'blue': '#0000FF'}\n",
    "        \n",
    "        \n",
    "        \n",
    "        "
   ]
  },
  {
   "cell_type": "code",
   "execution_count": null,
   "metadata": {},
   "outputs": [],
   "source": [
    "8. Write a Python program to demonstrate zipping of two different size of lists using itertools.cycle().\n",
    "    Data:\n",
    "        [7, 8, 4, 5, 9, 10] \n",
    "        [1, 5, 6]\n",
    "    Expected Output:\n",
    "        [(7, 1), (8, 5), (4, 6), (5, 1), (9, 5), (10, 6)]\n",
    "        \n",
    "        \n",
    "        \n",
    "        "
   ]
  },
  {
   "cell_type": "code",
   "execution_count": null,
   "metadata": {},
   "outputs": [],
   "source": [
    "9. Write a Python program to demonstrate zip uneven tuple using itertools.cycle().\n",
    "    Data:\n",
    "        ('boss', 'Mark', 'Jane')\n",
    "        (100, 34, 87, 23, 65)\n",
    "    Expected Output:\n",
    "        The original tuple 1 is : ('boss', 'Mark', 'Jane')\n",
    "        The original tuple 2 is : (100, 34, 87, 23, 65)\n",
    "        The zipped tuple is : [('boss', 100), ('Mark', 34), ('Jane', 87), ('boss', 23), ('Mark', 65)]\n",
    "            \n",
    "            \n",
    "            \n",
    "            "
   ]
  },
  {
   "cell_type": "code",
   "execution_count": null,
   "metadata": {},
   "outputs": [],
   "source": [
    "10. Write a Python program to demonstrate the working of zip() function.\n",
    "    Data:\n",
    "        name = [ \"Suresh\", \"Nikhil\", \"Shambhavi\", \"Astha\" ] \n",
    "        roll_no = [ 4, 1, 3, 2 ] \n",
    "        marks = [ 40, 50, 60, 70 ] \n",
    "    Expected Output:\n",
    "        {('Nikhil', 1, 50), ('Shambhavi', 3, 60), ('Suresh', 4, 40), ('Astha', 2, 70)}\n",
    "        \n",
    "        \n",
    "        \n",
    "        "
   ]
  }
 ],
 "metadata": {
  "kernelspec": {
   "display_name": "Python 3",
   "language": "python",
   "name": "python3"
  },
  "language_info": {
   "codemirror_mode": {
    "name": "ipython",
    "version": 3
   },
   "file_extension": ".py",
   "mimetype": "text/x-python",
   "name": "python",
   "nbconvert_exporter": "python",
   "pygments_lexer": "ipython3",
   "version": "3.8.5"
  }
 },
 "nbformat": 4,
 "nbformat_minor": 4
}

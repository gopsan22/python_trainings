{
 "cells": [
  {
   "cell_type": "markdown",
   "metadata": {},
   "source": [
    "# Zip Hard Questions"
   ]
  },
  {
   "cell_type": "code",
   "execution_count": null,
   "metadata": {},
   "outputs": [],
   "source": [
    "1. Write a python program to demonstrate the working of unzip.\n",
    "   Data:\n",
    "        [('Baskar', 4, 40), ('Suresh', 1, 50), ('Shambhavi', 3, 60), ('Astha', 2, 70)]\n",
    "    Expected Output:\n",
    "        The unzipped result: \n",
    "        The name list is : ('Baskar', 'Suresh', 'Shambhavi', 'Astha')\n",
    "        The roll_no list is : (4, 1, 3, 2)\n",
    "        The marks list is : (40, 50, 60, 70)\n",
    "            \n",
    "            \n",
    "            \n",
    "            "
   ]
  },
  {
   "cell_type": "code",
   "execution_count": null,
   "metadata": {},
   "outputs": [],
   "source": [
    "2. Write a python program to print the expected output from the given lists using for loop and zip().\n",
    "    Data:\n",
    "        players = [ \"Sachin\", \"Sehwag\", \"Gambhir\", \"Dravid\", \"Raina\" ] \n",
    "        scores = [100, 15, 17, 28, 43 ] \n",
    "    Expected Output:\n",
    "        Player :  Sachin     Score : 100\n",
    "        Player :  Sehwag     Score : 15\n",
    "        Player :  Gambhir     Score : 17\n",
    "        Player :  Dravid     Score : 28\n",
    "        Player :  Raina     Score : 43\n",
    "                \n",
    "                \n",
    "                \n",
    "                "
   ]
  },
  {
   "cell_type": "code",
   "execution_count": null,
   "metadata": {},
   "outputs": [],
   "source": [
    "3. Write a python program to print the transpose of a given matrix using zip() function.\n",
    "    Data:\n",
    "        [[1, 3], [4, 5], [5, 6]] \n",
    "        [[7, 9], [3, 2], [3, 10]] \n",
    "    Expected Output:\n",
    "        [[1, 3, 7, 9], [4, 5, 3, 2], [5, 6, 3, 10]]\n",
    "        \n",
    "        \n",
    "        \n",
    "        "
   ]
  },
  {
   "cell_type": "code",
   "execution_count": null,
   "metadata": {},
   "outputs": [],
   "source": [
    "4. Write a python program to zip given lists and count the number of elements in a zip.\n",
    "    Data:\n",
    "        list1 = ['Alpha', 'Beta', 'Gamma', 'Sigma']\n",
    "        list2 = ['one', 'two', 'three', 'six', 'five']\n",
    "        list3 = [1, 2, 3]\n",
    "    Expected Output:\n",
    "        Printing the values of zip\n",
    "        ('Alpha', 'one', 1)\n",
    "        ('Beta', 'two', 2)\n",
    "        ('Gamma', 'three', 3)\n",
    "        Zip file contains  3 elements\n",
    "\n",
    "        \n",
    "        \n",
    "        \n",
    "        "
   ]
  },
  {
   "cell_type": "code",
   "execution_count": null,
   "metadata": {},
   "outputs": [],
   "source": [
    "5. Write a Python program to create a dictionary from two given lists without losing duplicate values using zip() function.\n",
    "    Data:\n",
    "        ['Class-V', 'Class-VI', 'Class-VII', 'Class-VIII'], [1, 2, 2, 3]\n",
    "    Expected Output:\n",
    "        defaultdict(<class 'set'>, {'Class-V': {1}, 'Class-VI': {2}, 'Class-VII': {2}, 'Class-VIII': {3}})\n",
    "\n",
    "        \n",
    "        \n",
    "        "
   ]
  },
  {
   "cell_type": "code",
   "execution_count": null,
   "metadata": {},
   "outputs": [],
   "source": [
    "6. Write a Python program to convert given three lists into a nested dictionary using list comprehension and zip() function.\n",
    "    Data:\n",
    "        l1 = [\"AR Rahman\", 'Sir CV Raman', 'Vijay Seshadri']\n",
    "        l2 = ['Oscar', 'Nobel', 'Pulitzer']\n",
    "        l3 = [2, 1, 1]\n",
    "    Expected Output:\n",
    "        The original list 1 is : ['AR Rahman', 'Sir CV Raman', 'Vijay Seshadri']\n",
    "        The original list 2 is : ['Oscar', 'Nobel', 'Pulitzer']\n",
    "        The original list 3 is : [2, 1, 1]\n",
    "        The constructed dictionary : [{'AR Rahman': {'Oscar': 2}}, \n",
    "                                      {'Sir CV Raman': {'Nobel': 1}}, \n",
    "                                      {'Vijay Seshadri': {'Pulitzer': 1}}]\n",
    "        \n",
    "        \n",
    "        "
   ]
  },
  {
   "cell_type": "code",
   "execution_count": null,
   "metadata": {},
   "outputs": [],
   "source": []
  }
 ],
 "metadata": {
  "kernelspec": {
   "display_name": "Python 3",
   "language": "python",
   "name": "python3"
  },
  "language_info": {
   "codemirror_mode": {
    "name": "ipython",
    "version": 3
   },
   "file_extension": ".py",
   "mimetype": "text/x-python",
   "name": "python",
   "nbconvert_exporter": "python",
   "pygments_lexer": "ipython3",
   "version": "3.8.5"
  }
 },
 "nbformat": 4,
 "nbformat_minor": 4
}

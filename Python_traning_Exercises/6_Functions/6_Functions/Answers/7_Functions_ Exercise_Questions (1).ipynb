{
 "cells": [
  {
   "cell_type": "code",
   "execution_count": 1,
   "metadata": {},
   "outputs": [],
   "source": [
    "# Write a function to hours to minutes , user should able to give hours as input\n",
    "\n",
    "# your Answer\n",
    "\n",
    "def hrstominscalc(x):\n",
    "    y = x*60\n",
    "    print(x,\"hours equals to\",y,\"minutes\")"
   ]
  },
  {
   "cell_type": "code",
   "execution_count": 3,
   "metadata": {},
   "outputs": [
    {
     "name": "stdout",
     "output_type": "stream",
     "text": [
      "2 hours equals to 120 minutes\n"
     ]
    }
   ],
   "source": [
    "hrstominscalc(2)"
   ]
  },
  {
   "cell_type": "code",
   "execution_count": 4,
   "metadata": {},
   "outputs": [],
   "source": [
    "# Write a function to convert centimeter to meter , user shoulb be able to give centimeter as input\n",
    "# your Answer\n",
    "\n",
    "def CentiToMeter(x):\n",
    "    y = x / 100\n",
    "    print(x, \"Centimeter is Equivalent to \",y,\"Meter\")\n",
    "\n",
    "\n",
    "\n",
    "\n"
   ]
  },
  {
   "cell_type": "code",
   "execution_count": 5,
   "metadata": {},
   "outputs": [
    {
     "name": "stdout",
     "output_type": "stream",
     "text": [
      "Enter the centimeter to convert to a meter =100\n",
      "100.0 Centimeter is Equivalent to  1.0 Meter\n"
     ]
    }
   ],
   "source": [
    "x = float(input('Enter the centimeter to convert to a meter ='))\n",
    "CentiToMeter(x)"
   ]
  },
  {
   "cell_type": "code",
   "execution_count": 7,
   "metadata": {},
   "outputs": [],
   "source": [
    "# Write a function to convert miles to Kilometer , user shoulb be able to give miles as input\n",
    "\n",
    "# your Answer\n",
    "\n",
    "def MilesToKM(x):\n",
    "    y = x *1.6\n",
    "    print(x, \"Miles is Equivalent to \",y,\"Kilometer\")\n",
    "\n",
    "\n",
    "\n",
    "\n",
    "\n"
   ]
  },
  {
   "cell_type": "code",
   "execution_count": 8,
   "metadata": {},
   "outputs": [
    {
     "name": "stdout",
     "output_type": "stream",
     "text": [
      "Enter the Miles to convert to a KM =10\n",
      "10.0 Miles is Equivalent to  16.0 Kilometer\n"
     ]
    }
   ],
   "source": [
    "x = float(input('Enter the Miles to convert to a KM ='))\n",
    "MilesToKM(x)"
   ]
  },
  {
   "cell_type": "code",
   "execution_count": 9,
   "metadata": {},
   "outputs": [],
   "source": [
    "# Write a function to convert pounds to Kilogram , user shoulb be able to give pounds as input\n",
    "# your Answer\n",
    "\n",
    "\n",
    "def poundToKG(x):\n",
    "    y = x *0.45\n",
    "    print(x, \"Pound is Equivalent to \",y,\"Kilogram\")\n",
    "\n",
    "\n",
    "\n",
    "\n"
   ]
  },
  {
   "cell_type": "code",
   "execution_count": 10,
   "metadata": {},
   "outputs": [
    {
     "name": "stdout",
     "output_type": "stream",
     "text": [
      "Enter the pound :10\n",
      "10.0 Pound is Equivalent to  4.5 Kilogram\n"
     ]
    }
   ],
   "source": [
    "pound=float(input('Enter the pound :'))\n",
    "poundToKG(pound)"
   ]
  },
  {
   "cell_type": "code",
   "execution_count": 11,
   "metadata": {},
   "outputs": [],
   "source": [
    "# Write a function to calculate simple interest # all input shoulb be given by the user\n",
    "# your Answer\n",
    "\n",
    "\n",
    "\n",
    "def simpleInterest(p,n,r):\n",
    "    si = (p*n*r)/100\n",
    "    print(\"Simple Interest is:\",si)\n",
    "\n",
    "\n"
   ]
  },
  {
   "cell_type": "code",
   "execution_count": 12,
   "metadata": {},
   "outputs": [
    {
     "name": "stdout",
     "output_type": "stream",
     "text": [
      "Enter value principal:50000\n",
      "Enter value num_yrs:3\n",
      "Enter the Rate:4.5\n",
      "Simple Interest is: 6750.0\n"
     ]
    }
   ],
   "source": [
    "p=float(input('Enter value principal:'))\n",
    "n=float(input('Enter value num_yrs:'))\n",
    "r=float(input('Enter the Rate:'))\n",
    "simpleInterest(p,n,r)"
   ]
  },
  {
   "cell_type": "code",
   "execution_count": 13,
   "metadata": {},
   "outputs": [],
   "source": [
    "# Write a function to calculate area of circle\n",
    "# your Answer\n",
    "\n",
    "\n",
    "def AreaOfCircle(r):\n",
    "    area=float(3.14*r*r)\n",
    "    print('Area :',area)\n",
    "\n",
    "\n"
   ]
  },
  {
   "cell_type": "code",
   "execution_count": 14,
   "metadata": {},
   "outputs": [
    {
     "name": "stdout",
     "output_type": "stream",
     "text": [
      "Enter value radius:2.5\n",
      "Area : 19.625\n"
     ]
    }
   ],
   "source": [
    "r=float(input('Enter value radius:'))\n",
    "AreaOfCircle(r)"
   ]
  },
  {
   "cell_type": "code",
   "execution_count": 15,
   "metadata": {},
   "outputs": [],
   "source": [
    "# Write a function to calculate circumference of circle\n",
    "# your Answer\n",
    "\n",
    "\n",
    "def circumference(r):\n",
    "    circumference=(2*3.14*r)\n",
    "    print('circumference :',circumference)\n",
    "\n",
    "\n"
   ]
  },
  {
   "cell_type": "code",
   "execution_count": 16,
   "metadata": {},
   "outputs": [
    {
     "name": "stdout",
     "output_type": "stream",
     "text": [
      "Enter value radius:2.2\n",
      "circumference : 13.816000000000003\n"
     ]
    }
   ],
   "source": [
    "r=float(input('Enter value radius:'))\n",
    "circumference(r)"
   ]
  },
  {
   "cell_type": "code",
   "execution_count": 17,
   "metadata": {},
   "outputs": [],
   "source": [
    "# Write a function to calculate perimeter of square\n",
    "# your Answer\n",
    "\n",
    "def perimeter(r):\n",
    "    perimeter=(4*r)\n",
    "    print('perimeter of square',perimeter)\n",
    "\n",
    "\n"
   ]
  },
  {
   "cell_type": "code",
   "execution_count": 19,
   "metadata": {},
   "outputs": [
    {
     "name": "stdout",
     "output_type": "stream",
     "text": [
      "Enter length of a side in square :5\n",
      "perimeter of square 20.0\n"
     ]
    }
   ],
   "source": [
    "s=float(input('Enter length of a side in square :'))\n",
    "perimeter(s)"
   ]
  },
  {
   "cell_type": "code",
   "execution_count": 20,
   "metadata": {},
   "outputs": [],
   "source": [
    "# Write a fucntion to calculate area of square\n",
    "# your Answer\n",
    "\n",
    "def areaofsquare(r):\n",
    "    area=(s**2)\n",
    "    print('area of square',area)\n",
    "\n",
    "\n",
    "\n"
   ]
  },
  {
   "cell_type": "code",
   "execution_count": 21,
   "metadata": {},
   "outputs": [
    {
     "name": "stdout",
     "output_type": "stream",
     "text": [
      "Enter length of a side in square :4\n",
      "area of square 16.0\n"
     ]
    }
   ],
   "source": [
    "s=float(input('Enter length of a side in square :'))\n",
    "areaofsquare(s)"
   ]
  },
  {
   "cell_type": "code",
   "execution_count": 22,
   "metadata": {},
   "outputs": [],
   "source": [
    "# Write a function to area of traingle\n",
    "# your Answer\n",
    "\n",
    "\n",
    "def areaoftriangle(b,h):\n",
    "    area=(1/2 * b *h)\n",
    "    print('area of triangle',area)\n",
    "\n",
    "\n"
   ]
  },
  {
   "cell_type": "code",
   "execution_count": 23,
   "metadata": {},
   "outputs": [
    {
     "name": "stdout",
     "output_type": "stream",
     "text": [
      "Enter base of triangle :3\n",
      "Enter height of triangle :4\n",
      "area of triangle 6.0\n"
     ]
    }
   ],
   "source": [
    "b=float(input('Enter base of triangle :'))\n",
    "h=float(input('Enter height of triangle :'))\n",
    "areaoftriangle(b,h)"
   ]
  },
  {
   "cell_type": "code",
   "execution_count": null,
   "metadata": {},
   "outputs": [],
   "source": []
  }
 ],
 "metadata": {
  "kernelspec": {
   "display_name": "Python 3 (ipykernel)",
   "language": "python",
   "name": "python3"
  },
  "language_info": {
   "codemirror_mode": {
    "name": "ipython",
    "version": 3
   },
   "file_extension": ".py",
   "mimetype": "text/x-python",
   "name": "python",
   "nbconvert_exporter": "python",
   "pygments_lexer": "ipython3",
   "version": "3.10.9"
  }
 },
 "nbformat": 4,
 "nbformat_minor": 2
}

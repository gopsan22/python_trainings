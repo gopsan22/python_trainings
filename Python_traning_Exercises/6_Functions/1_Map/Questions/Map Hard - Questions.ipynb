{
 "cells": [
  {
   "cell_type": "markdown",
   "metadata": {},
   "source": [
    "# Map Hard Questions"
   ]
  },
  {
   "cell_type": "code",
   "execution_count": null,
   "metadata": {},
   "outputs": [],
   "source": [
    "1. Write a Python program to compute the sum of elements of an given array of integers using map().\n",
    "    Data:\n",
    "        Original array: array('i', [0, 1, 2, 3, -4, 5, -15])\n",
    "    Expected Output:\n",
    "        Sum of all elements of the said array: -8\n",
    "            \n",
    "            \n",
    "            \n",
    "            "
   ]
  },
  {
   "cell_type": "code",
   "execution_count": null,
   "metadata": {},
   "outputs": [],
   "source": [
    "2. Write a Python program to find the ratio of positive numbers, negative numbers and zeroes in an array of integers. \n",
    "    Data:\n",
    "        Original array: \n",
    "        array('i', [0, 1, 2, -1, -5, 6, 0, -3, -2, 3, 4, 6, 8])\n",
    "        array('i', [2, 1, 2, -1, -5, 6, 4, -3, -2, 3, 4, 6, 8])\n",
    "    Expected Output:\n",
    "        Ratio of positive numbers, negative numbers and zeroes:\n",
    "        (0.54, 0.31, 0.15)\n",
    "        (0.69, 0.31, 0.0)\n",
    "        \n",
    "        \n",
    "        \n",
    "        "
   ]
  },
  {
   "cell_type": "code",
   "execution_count": null,
   "metadata": {},
   "outputs": [],
   "source": [
    "3. Write a Python program to count the same pair of values in two given lists using map().\n",
    "    Data:\n",
    "        Original lists:\n",
    "        [1, 2, 3, 4, 5, 6, 7, 8, 9]\n",
    "        [1, 2, 3, 1, 2, 3, 1, 2, 3]\n",
    "    Expected Output:\n",
    "        Number of same pair of the said two given lists:\n",
    "        3\n",
    "        \n",
    "        \n",
    "        \n",
    "        "
   ]
  },
  {
   "cell_type": "code",
   "execution_count": null,
   "metadata": {},
   "outputs": [],
   "source": [
    "4. Write a Python program to interleave two given lists randomly using map() function.\n",
    "    Data:\n",
    "        Original lists:\n",
    "        [3, 2, 7, 8, 3, 7]\n",
    "        [5, 3, 8, 9, 4, 3, 8, 9]\n",
    "    Expected Output:\n",
    "        Interleave two given list into another list randomly:\n",
    "        [5, 3, 3, 8, 2, 9, 7, 4, 3, 8, 3, 8, 7, 9]\n",
    "        \n",
    "        \n",
    "        \n",
    "        "
   ]
  },
  {
   "cell_type": "code",
   "execution_count": null,
   "metadata": {},
   "outputs": [],
   "source": [
    "5. Write a Python program to split a given dictionary of lists into list of dictionaries using map function.\n",
    "    Data:\n",
    "        marks = {'Science': [98, 19, 22, 55], 'Language': [67, 18, 34, 90]}\n",
    "    Expected Output:\n",
    "        Split said dictionary of lists into list of dictionaries:\n",
    "        [{'Science': 98, 'Language': 67}, {'Science': 19, 'Language': 18}, {'Science': 22, 'Language': 34}, \n",
    "         {'Science': 55, 'Language': 90}]\n",
    "        \n",
    "        \n",
    "        \n",
    "        "
   ]
  },
  {
   "cell_type": "code",
   "execution_count": null,
   "metadata": {},
   "outputs": [],
   "source": [
    "6. Write a Python program to convert a given list of strings into list of lists with each strings individually using map function.\n",
    "    Data:\n",
    "        ['Suresh', 'Bala', 'Siva', 'Boss']\n",
    "    Expected Output:\n",
    "        Convert the said list of strings into list of lists:\n",
    "        [['S', 'u', 'r', 'e', 's', 'h'], ['B', 'a', 'l', 'a'], ['S', 'i', 'v', 'a'], ['B', 'o', 's', 's']]\n",
    "        \n",
    "        \n",
    "        \n",
    "        "
   ]
  },
  {
   "cell_type": "code",
   "execution_count": null,
   "metadata": {},
   "outputs": [],
   "source": [
    "7. Write a Python program to convert a given list of tuples into a list of strings using map function.\n",
    "    Data:\n",
    "        Original list of tuples:\n",
    "        [('red', 'pink'), ('white', 'black'), ('orange', 'green')]\n",
    "        [('Boss', 'Suresh'), ('Dinesh', 'Bala'), ('Karthi', 'Siva')]\n",
    "    Expected Output:\n",
    "        Convert the said list of tuples to a list of strings:\n",
    "        ['red pink', 'white black', 'orange green']\n",
    "        ['Boss Suresh', 'Dinesh Bala', 'Karthi Siva']\n",
    "        \n",
    "        \n",
    "        \n",
    "        "
   ]
  },
  {
   "cell_type": "code",
   "execution_count": null,
   "metadata": {},
   "outputs": [],
   "source": [
    "8. Write a Python program to calculate the ASCII sum for each word in a sentence and \n",
    "                the sentence as a whole using map function and dictionaries.\n",
    "    Data:\n",
    "        sentence = \"I love my puppy kutta\"\n",
    "    Expected Output:\n",
    "        The given sentence : I love my puppy kutta\n",
    "        ASCII sum for each word in a sentence : 73 438 230 574 553\n",
    "        Total of all ASCII values in sentence : 1868\n",
    "        \n",
    "        "
   ]
  },
  {
   "cell_type": "code",
   "execution_count": null,
   "metadata": {},
   "outputs": [],
   "source": [
    "9. Write a Python function to Count total set bits in all numbers from 1 to n.\n",
    "    Data:\n",
    "        n = 8\n",
    "    Expected Output:\n",
    "        Total set bits : 13\n",
    "        \n",
    "        \n",
    "        "
   ]
  },
  {
   "cell_type": "code",
   "execution_count": null,
   "metadata": {},
   "outputs": [],
   "source": [
    "10. Write a python program to print numbers in the range 1 to n having first and last bits as the only set bits.\n",
    "    Expected Output:\n",
    "        1 3 5 9\n",
    "        \n",
    "        \n",
    "        \n",
    "        "
   ]
  }
 ],
 "metadata": {
  "kernelspec": {
   "display_name": "Python 3",
   "language": "python",
   "name": "python3"
  },
  "language_info": {
   "codemirror_mode": {
    "name": "ipython",
    "version": 3
   },
   "file_extension": ".py",
   "mimetype": "text/x-python",
   "name": "python",
   "nbconvert_exporter": "python",
   "pygments_lexer": "ipython3",
   "version": "3.8.5"
  }
 },
 "nbformat": 4,
 "nbformat_minor": 4
}

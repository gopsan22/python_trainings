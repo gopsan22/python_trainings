{
 "cells": [
  {
   "cell_type": "markdown",
   "metadata": {},
   "source": [
    "# Filter Simple Questions"
   ]
  },
  {
   "cell_type": "code",
   "execution_count": null,
   "metadata": {},
   "outputs": [],
   "source": [
    "1. Write a python program to filter only the vowels from the given list of letters.\n",
    "Data:\n",
    "    letters = ['b', 'i', 'o', 's', 'p', 'h', 'e', 'r', 'e']\n",
    "Expected output:\n",
    "    The filtered vowels are:\n",
    "    i o e e \n",
    "    "
   ]
  },
  {
   "cell_type": "code",
   "execution_count": null,
   "metadata": {},
   "outputs": [],
   "source": [
    "2. Write a python program to filter only the odd numbers from the given list of numbers.\n",
    "Data:\n",
    "    seq = [0, 1, 2, 3, 5, 8, 13]\n",
    "Expected output:\n",
    "    Odd numbers from list : [1, 3, 5, 13]\n",
    "        "
   ]
  },
  {
   "cell_type": "code",
   "execution_count": null,
   "metadata": {},
   "outputs": [],
   "source": [
    "3. Write a python program to filter only the even numbers from the given list of numbers.\n",
    "Data:\n",
    "    seq = [0, 1, 2, 3, 5, 8, 13]\n",
    "Expected output:\n",
    "    Even numbers from list : [0, 2, 8]\n",
    "        "
   ]
  },
  {
   "cell_type": "code",
   "execution_count": null,
   "metadata": {},
   "outputs": [],
   "source": [
    "4. Write a python function to filter only those ages which are >= 18 from the given list of ages.\n",
    "Data:\n",
    "    ages = [5, 12, 17, 18, 24, 32]\n",
    "Expected output:\n",
    "    Ages >= 18 :  18\n",
    "    Ages >= 18 :  24\n",
    "    Ages >= 18 :  32\n",
    "        "
   ]
  },
  {
   "cell_type": "code",
   "execution_count": null,
   "metadata": {},
   "outputs": [],
   "source": [
    "5. Write a python program to filter the numbers which are greater than 3 from the given list.\n",
    "Data:\n",
    "    l = [1, 2, 3, 4, 5]\n",
    "Expected output:\n",
    "    <filter object at 0x000001CA3E981040>\n",
    "    Values >=3 : [3, 4, 5]\n",
    "        "
   ]
  },
  {
   "cell_type": "code",
   "execution_count": null,
   "metadata": {},
   "outputs": [],
   "source": [
    "6. Write a python program to filter only those names starts with a vowel from a given list of names.\n",
    "Data:\n",
    "    names = ['Obama', 'Annadurai', 'Jackson', 'Atkinson', 'Jackie', 'Charlie']\n",
    "Expected output:\n",
    "    ['Obama', 'Annadurai', 'Atkinson']\n",
    "    "
   ]
  },
  {
   "cell_type": "code",
   "execution_count": null,
   "metadata": {},
   "outputs": [],
   "source": [
    "7. Write a python program to print only the non-zero values and true values from the given list using filter().\n",
    "Data:\n",
    "    l = [1, 0, False, True]\n",
    "Expected output:\n",
    "    [1, True]\n",
    "    "
   ]
  },
  {
   "cell_type": "code",
   "execution_count": null,
   "metadata": {},
   "outputs": [],
   "source": [
    "8. Write a python function to print only the multiples of 3 from the given list using filter().\n",
    "Data:\n",
    "    l = [1, 3, 5, 6, 8, 9, 12, 14]\n",
    "Expected output:\n",
    "    [3, 6, 9, 12]\n",
    "    "
   ]
  },
  {
   "cell_type": "code",
   "execution_count": null,
   "metadata": {},
   "outputs": [],
   "source": [
    "9. Write a python program to print only the non-empty strings from the given tuple using filter(). (Use None)\n",
    "Data:\n",
    "    names = ('Jack', 'Jill', 'Steve', '')\n",
    "Expected output:\n",
    "    ('Jack', 'Jill', 'Steve')\n",
    "    "
   ]
  },
  {
   "cell_type": "code",
   "execution_count": null,
   "metadata": {},
   "outputs": [],
   "source": [
    "10. Write a python program to filter only the names which starts with S from the given tuple.\n",
    "Data:\n",
    "    names = ('Shar', 'Sarav', 'Ajeth', '')\n",
    "Expected output:\n",
    "    ('Shar', 'Sarav')\n",
    "    "
   ]
  }
 ],
 "metadata": {
  "kernelspec": {
   "display_name": "Python 3",
   "language": "python",
   "name": "python3"
  },
  "language_info": {
   "codemirror_mode": {
    "name": "ipython",
    "version": 3
   },
   "file_extension": ".py",
   "mimetype": "text/x-python",
   "name": "python",
   "nbconvert_exporter": "python",
   "pygments_lexer": "ipython3",
   "version": "3.8.5"
  }
 },
 "nbformat": 4,
 "nbformat_minor": 4
}

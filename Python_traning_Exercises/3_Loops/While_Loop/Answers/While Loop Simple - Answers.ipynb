{
 "cells": [
  {
   "cell_type": "markdown",
   "metadata": {},
   "source": [
    "# While Loop Simple Questions"
   ]
  },
  {
   "cell_type": "code",
   "execution_count": null,
   "metadata": {},
   "outputs": [],
   "source": [
    "1. Write a python program to pop() elements until the list has elements using while loop.\n",
    "    Data:\n",
    "        a = [1,2,3,4,5]\n",
    "    Expected output:\n",
    "        5\n",
    "        4\n",
    "        3\n",
    "        2\n",
    "        1\n",
    "        \n",
    "        \n",
    "        \n",
    "        \n",
    "        "
   ]
  },
  {
   "cell_type": "code",
   "execution_count": 1,
   "metadata": {},
   "outputs": [
    {
     "name": "stdout",
     "output_type": "stream",
     "text": [
      "5\n",
      "4\n",
      "3\n",
      "2\n",
      "1\n"
     ]
    }
   ],
   "source": [
    "a=[1,2,3,4,5]\n",
    "i=len(a)\n",
    "while i>0:\n",
    "    i = i - 1\n",
    "    print(a[i])"
   ]
  },
  {
   "cell_type": "code",
   "execution_count": null,
   "metadata": {},
   "outputs": [],
   "source": [
    "2. Write a simple python program to demonstrate a while loop with else block.\n",
    "    Data:\n",
    "        x = 10\n",
    "    Expected output:\n",
    "        10\n",
    "        9\n",
    "        8\n",
    "        7\n",
    "        loop is finished\n",
    "        \n",
    "        \n",
    "        \n",
    "        "
   ]
  },
  {
   "cell_type": "code",
   "execution_count": 1,
   "metadata": {},
   "outputs": [
    {
     "name": "stdout",
     "output_type": "stream",
     "text": [
      "10\n",
      "9\n",
      "8\n",
      "7\n",
      "loop is finished\n"
     ]
    }
   ],
   "source": [
    "x=10\n",
    "while x>0:\n",
    "    print(x)\n",
    "    x = x -1\n",
    "    if (x > 6):\n",
    "        continue\n",
    "    else:\n",
    "        print(\"loop is finished\")\n",
    "        break\n",
    "\n",
    "        "
   ]
  },
  {
   "cell_type": "code",
   "execution_count": null,
   "metadata": {},
   "outputs": [],
   "source": [
    "3. write a python program to print x as long as x is less than 6, using while loop.\n",
    "    Data:\n",
    "        x = 1\n",
    "    Expected output:\n",
    "        1\n",
    "        2\n",
    "        3\n",
    "        4\n",
    "        5\n",
    "    \n",
    "    \n",
    "    \n",
    "    "
   ]
  },
  {
   "cell_type": "code",
   "execution_count": 3,
   "metadata": {},
   "outputs": [
    {
     "name": "stdout",
     "output_type": "stream",
     "text": [
      "1\n",
      "2\n",
      "3\n",
      "4\n",
      "5\n"
     ]
    }
   ],
   "source": [
    "x=1\n",
    "while x>0 and x<6:\n",
    "    print(x)\n",
    "    x =x + 1\n",
    "    "
   ]
  },
  {
   "cell_type": "code",
   "execution_count": null,
   "metadata": {},
   "outputs": [],
   "source": [
    "4. Write a python program to check if list still contains any element using while loop and pop().\n",
    "    Data:\n",
    "        x = [0,1,2,3,4,5]\n",
    "    Expected output:\n",
    "        5\n",
    "        4\n",
    "        3\n",
    "        2\n",
    "        1\n",
    "        0\n",
    "        \n",
    "        \n",
    "        \n",
    "        "
   ]
  },
  {
   "cell_type": "code",
   "execution_count": null,
   "metadata": {},
   "outputs": [],
   "source": []
  },
  {
   "cell_type": "code",
   "execution_count": null,
   "metadata": {},
   "outputs": [],
   "source": [
    "5. Write a python program to print the following pattern using while loop.\n",
    "    Expected output:\n",
    "    *\n",
    "    * * \n",
    "    * * * \n",
    "    * * * *\n",
    "    \n",
    "    \n",
    "    \n",
    "    "
   ]
  },
  {
   "cell_type": "code",
   "execution_count": 8,
   "metadata": {},
   "outputs": [
    {
     "name": "stdout",
     "output_type": "stream",
     "text": [
      "\n",
      "\n",
      "* \n",
      "\n",
      "* * \n",
      "\n",
      "* * * \n",
      "\n",
      "* * * * \n",
      "\n"
     ]
    }
   ],
   "source": [
    "i=0\n",
    "while i<5:\n",
    "    i = i+1\n",
    "    for j in range(1, i):\n",
    "        if (i>=j):\n",
    "            print('*', end = \" \")\n",
    "        else:\n",
    "            print(\" \")\n",
    "    print(\"\\n\")"
   ]
  },
  {
   "cell_type": "code",
   "execution_count": null,
   "metadata": {},
   "outputs": [],
   "source": [
    "6. Write a python program to print multiplication table of 24 using while loop.\n",
    "    Data:\n",
    "        24\n",
    "    Expected output:\n",
    "        24 48 72 96 120 144 168 192 216 240 \n",
    "        \n",
    "        \n",
    "        \n",
    "        "
   ]
  },
  {
   "cell_type": "code",
   "execution_count": 11,
   "metadata": {},
   "outputs": [
    {
     "name": "stdout",
     "output_type": "stream",
     "text": [
      "24 48 72 96 120 144 168 192 216 240 "
     ]
    }
   ],
   "source": [
    "x=0\n",
    "while x<10:\n",
    "    x=x+1\n",
    "    print(x*24,end=\" \")"
   ]
  },
  {
   "cell_type": "code",
   "execution_count": null,
   "metadata": {},
   "outputs": [],
   "source": [
    "7. Write a python program to print first 10 natural numbers using while loop.\n",
    "    Data:\n",
    "        10\n",
    "    Expected output:\n",
    "        0 1 2 3 4 5 6 7 8 9 10 \n",
    "        \n",
    "        \n",
    "        "
   ]
  },
  {
   "cell_type": "code",
   "execution_count": 17,
   "metadata": {
    "scrolled": true
   },
   "outputs": [
    {
     "name": "stdout",
     "output_type": "stream",
     "text": [
      "0\n",
      "1\n",
      "2\n",
      "3\n",
      "4\n",
      "5\n",
      "6\n",
      "7\n",
      "8\n",
      "9\n",
      "10\n"
     ]
    }
   ],
   "source": [
    "x=0\n",
    "while x<=10:\n",
    "    print(x)\n",
    "    x=x+1"
   ]
  },
  {
   "cell_type": "code",
   "execution_count": null,
   "metadata": {},
   "outputs": [],
   "source": [
    "8. Write a python program to get the fibonacci series between 0 to 50.\n",
    "    Data:\n",
    "        x,y = 0,1\n",
    "    Expected output:\n",
    "        1\n",
    "        1\n",
    "        2\n",
    "        3\n",
    "        5\n",
    "        8\n",
    "        13\n",
    "        21\n",
    "        34\n",
    "        \n",
    "        \n",
    "        \n",
    "        "
   ]
  },
  {
   "cell_type": "code",
   "execution_count": 16,
   "metadata": {},
   "outputs": [
    {
     "name": "stdout",
     "output_type": "stream",
     "text": [
      "1\n",
      "1\n",
      "2\n",
      "3\n",
      "5\n",
      "8\n",
      "13\n",
      "21\n",
      "34\n"
     ]
    }
   ],
   "source": [
    "x,y=0,1\n",
    "z=0\n",
    "while z<50:\n",
    "    z=x+y\n",
    "    if z<50:\n",
    "        print(z)       \n",
    "        \n",
    "    if f==0:\n",
    "        x,y=z,y\n",
    "        f=1\n",
    "    elif f==1:\n",
    "        x,y=x,z\n",
    "        f=0"
   ]
  },
  {
   "cell_type": "code",
   "execution_count": null,
   "metadata": {},
   "outputs": [],
   "source": [
    "9. Write a python program to construct the following pattern.\n",
    "    Expected output:\n",
    "        1\n",
    "        22\n",
    "        333\n",
    "        4444\n",
    "        55555\n",
    "        666666\n",
    "        7777777\n",
    "        88888888\n",
    "        999999999\n",
    "        \n",
    "        \n",
    "        \n",
    "        "
   ]
  },
  {
   "cell_type": "code",
   "execution_count": 42,
   "metadata": {},
   "outputs": [
    {
     "name": "stdout",
     "output_type": "stream",
     "text": [
      "1\n",
      "\n",
      "22\n",
      "\n",
      "333\n",
      "\n",
      "4444\n",
      "\n",
      "55555\n",
      "\n",
      "666666\n",
      "\n",
      "7777777\n",
      "\n",
      "88888888\n",
      "\n",
      "999999999\n",
      "\n"
     ]
    }
   ],
   "source": [
    "i=0\n",
    "while i<9:\n",
    "    i=i+1\n",
    "    for j in range(1, i+1):\n",
    "        if (i >= j):\n",
    "            print(i, end=\"\")\n",
    "   \n",
    "    print(\"\\n\")"
   ]
  },
  {
   "cell_type": "code",
   "execution_count": 33,
   "metadata": {},
   "outputs": [
    {
     "ename": "SyntaxError",
     "evalue": "invalid syntax (491553095.py, line 1)",
     "output_type": "error",
     "traceback": [
      "\u001b[1;36m  Cell \u001b[1;32mIn[33], line 1\u001b[1;36m\u001b[0m\n\u001b[1;33m    10. Write a python program to add natural number up to sum = 1+2+3+.....+n\u001b[0m\n\u001b[1;37m        ^\u001b[0m\n\u001b[1;31mSyntaxError\u001b[0m\u001b[1;31m:\u001b[0m invalid syntax\n"
     ]
    }
   ],
   "source": [
    "10. Write a python program to add natural number up to sum = 1+2+3+.....+n\n",
    "    Expected output:\n",
    "        The sum is  15\n",
    "            \n",
    "            \n",
    "            \n",
    "            "
   ]
  },
  {
   "cell_type": "code",
   "execution_count": null,
   "metadata": {},
   "outputs": [],
   "source": []
  },
  {
   "cell_type": "code",
   "execution_count": null,
   "metadata": {},
   "outputs": [],
   "source": [
    "11. Write a python program to illustrate the working of while loop with else statement.\n",
    "    Expected output:\n",
    "        Inside loop\n",
    "        Inside loop\n",
    "        Inside loop\n",
    "        Inside else\n",
    "        \n",
    "        \n",
    "        \n",
    "        "
   ]
  },
  {
   "cell_type": "code",
   "execution_count": null,
   "metadata": {},
   "outputs": [],
   "source": []
  },
  {
   "cell_type": "code",
   "execution_count": null,
   "metadata": {},
   "outputs": [],
   "source": [
    "12. Write a simple python program to illustrate the working of nested while loop using given data.\n",
    "    Data:\n",
    "        i = 1\n",
    "        j = 3\n",
    "    Expected output:\n",
    "        1 , 3\n",
    "        2 , 4\n",
    "        3 , 5\n",
    "        4 , 6\n",
    "        5 , 7\n",
    "        \n",
    "        \n",
    "        \n",
    "        "
   ]
  },
  {
   "cell_type": "code",
   "execution_count": null,
   "metadata": {},
   "outputs": [],
   "source": []
  },
  {
   "cell_type": "code",
   "execution_count": null,
   "metadata": {},
   "outputs": [],
   "source": [
    "13. Write a Python program to print the following output from given data using while loop.\n",
    "    Data:\n",
    "        n = 7, c = 0\n",
    "    Expected output:\n",
    "        5\n",
    "        11\n",
    "        \n",
    "        \n",
    "        \n",
    "        "
   ]
  },
  {
   "cell_type": "code",
   "execution_count": 71,
   "metadata": {},
   "outputs": [
    {
     "name": "stdout",
     "output_type": "stream",
     "text": [
      "5\n",
      "11\n"
     ]
    }
   ],
   "source": [
    "n=7\n",
    "c=0\n",
    "while c<n:\n",
    "    c=c+5\n",
    "    print(c)\n",
    "    if c==11:\n",
    "        break\n",
    "    c=n-1"
   ]
  },
  {
   "cell_type": "code",
   "execution_count": null,
   "metadata": {},
   "outputs": [],
   "source": [
    "14. Write a python program to exit the loop when x is 3, using break statement in a while loop.\n",
    "    Data:\n",
    "        x = 1\n",
    "    Expected output:\n",
    "        1\n",
    "        2\n",
    "        3\n",
    "        \n",
    "        \n",
    "        \n",
    "        "
   ]
  },
  {
   "cell_type": "code",
   "execution_count": 57,
   "metadata": {},
   "outputs": [
    {
     "name": "stdout",
     "output_type": "stream",
     "text": [
      "1\n",
      "2\n",
      "3\n"
     ]
    }
   ],
   "source": [
    "x=0\n",
    "while x>=0:\n",
    "    x=x+1\n",
    "    print(x)\n",
    "    if x==3:\n",
    "        break\n",
    "    "
   ]
  },
  {
   "cell_type": "code",
   "execution_count": null,
   "metadata": {},
   "outputs": [],
   "source": [
    "15. Write a python program to continue the next iteration if x is 3.\n",
    "    Data:\n",
    "        x = 0\n",
    "    Expected output:\n",
    "        1\n",
    "        2\n",
    "        4\n",
    "        5\n",
    "        6\n",
    "        \n",
    "        \n",
    "        \n",
    "        "
   ]
  },
  {
   "cell_type": "code",
   "execution_count": 51,
   "metadata": {},
   "outputs": [
    {
     "name": "stdout",
     "output_type": "stream",
     "text": [
      "1\n",
      "2\n",
      "4\n",
      "5\n",
      "6\n"
     ]
    }
   ],
   "source": [
    "x=0\n",
    "while x<6:\n",
    "    x=x+1\n",
    "    if x==3:\n",
    "        continue\n",
    "    print(x)"
   ]
  },
  {
   "cell_type": "code",
   "execution_count": null,
   "metadata": {},
   "outputs": [],
   "source": [
    "16. Write a python program to print a message once the while condition is false.\n",
    "    Data:\n",
    "        x = 1\n",
    "    Expeccted output:\n",
    "        1\n",
    "        2\n",
    "        3\n",
    "        4\n",
    "        5\n",
    "        x is no longer less than 6\n",
    "        \n",
    "        \n",
    "        \n",
    "        "
   ]
  },
  {
   "cell_type": "code",
   "execution_count": 49,
   "metadata": {},
   "outputs": [
    {
     "name": "stdout",
     "output_type": "stream",
     "text": [
      "1\n",
      "2\n",
      "3\n",
      "4\n",
      "5\n",
      "6\n",
      "x is no longer less than  6\n"
     ]
    }
   ],
   "source": [
    "x=0\n",
    "while x!=6:\n",
    "    x=x+1\n",
    "    print(x)\n",
    "    if (x==6):\n",
    "        print('x is no longer less than ',x)"
   ]
  },
  {
   "cell_type": "code",
   "execution_count": null,
   "metadata": {},
   "outputs": [],
   "source": [
    "17. Write a python program to illustrate a simple while loop.\n",
    "    Data:\n",
    "        Hello Words\n",
    "    Expected output:\n",
    "        Hello Words\n",
    "        Hello Words\n",
    "        Hello Words\n",
    "        \n",
    "        \n",
    "        \n",
    "        "
   ]
  },
  {
   "cell_type": "code",
   "execution_count": 46,
   "metadata": {},
   "outputs": [
    {
     "name": "stdout",
     "output_type": "stream",
     "text": [
      "Hello Words\n",
      "Hello Words\n",
      "Hello Words\n"
     ]
    }
   ],
   "source": [
    "data='Hello Words'\n",
    "x=0\n",
    "while x<3:\n",
    "    x=x+1\n",
    "    print(data)"
   ]
  },
  {
   "cell_type": "code",
   "execution_count": null,
   "metadata": {},
   "outputs": [],
   "source": [
    "18. Write a python program to use pass statement in a while loop.\n",
    "    Data:\n",
    "        x = \"jackforjack\"\n",
    "        y = 0\n",
    "    Expected output:\n",
    "        Value of y:  11\n",
    "            \n",
    "            \n",
    "            \n",
    "            "
   ]
  },
  {
   "cell_type": "code",
   "execution_count": null,
   "metadata": {},
   "outputs": [],
   "source": []
  },
  {
   "cell_type": "code",
   "execution_count": null,
   "metadata": {},
   "outputs": [],
   "source": [
    "19. Write a python program to demonstrate while-else loop.\n",
    "    Data:\n",
    "        x = 0\n",
    "    Expected output:\n",
    "        1\n",
    "        2\n",
    "        3\n",
    "        4\n",
    "        Good bye\n",
    "        \n",
    "        \n",
    "        \n",
    "        "
   ]
  },
  {
   "cell_type": "code",
   "execution_count": null,
   "metadata": {},
   "outputs": [],
   "source": []
  },
  {
   "cell_type": "code",
   "execution_count": null,
   "metadata": {},
   "outputs": [],
   "source": [
    "20. Write a Python program to print multiplication table of 5 using while loop.\n",
    "    Expected output:\n",
    "        5 * 1 = 5\n",
    "        5 * 2 = 10\n",
    "        5 * 3 = 15\n",
    "        5 * 4 = 20\n",
    "        5 * 5 = 25\n",
    "        5 * 6 = 30\n",
    "        5 * 7 = 35\n",
    "        5 * 8 = 40\n",
    "        5 * 9 = 45\n",
    "        5 * 10 = 50\n",
    "        \n",
    "        \n",
    "        \n",
    "        "
   ]
  },
  {
   "cell_type": "code",
   "execution_count": 43,
   "metadata": {},
   "outputs": [
    {
     "name": "stdout",
     "output_type": "stream",
     "text": [
      "5* 1 = 5\n",
      "5* 2 = 10\n",
      "5* 3 = 15\n",
      "5* 4 = 20\n",
      "5* 5 = 25\n",
      "5* 6 = 30\n",
      "5* 7 = 35\n",
      "5* 8 = 40\n",
      "5* 9 = 45\n",
      "5* 10 = 50\n"
     ]
    }
   ],
   "source": [
    "x=0\n",
    "while x<10:\n",
    "    x=x+1\n",
    "    print('5*',x,'=',5*x)"
   ]
  },
  {
   "cell_type": "code",
   "execution_count": null,
   "metadata": {},
   "outputs": [],
   "source": []
  }
 ],
 "metadata": {
  "kernelspec": {
   "display_name": "Python 3 (ipykernel)",
   "language": "python",
   "name": "python3"
  },
  "language_info": {
   "codemirror_mode": {
    "name": "ipython",
    "version": 3
   },
   "file_extension": ".py",
   "mimetype": "text/x-python",
   "name": "python",
   "nbconvert_exporter": "python",
   "pygments_lexer": "ipython3",
   "version": "3.10.9"
  }
 },
 "nbformat": 4,
 "nbformat_minor": 4
}

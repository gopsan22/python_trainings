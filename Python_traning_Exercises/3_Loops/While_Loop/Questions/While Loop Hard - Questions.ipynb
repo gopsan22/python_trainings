{
 "cells": [
  {
   "cell_type": "markdown",
   "metadata": {},
   "source": [
    "# While Loop Hard Questions"
   ]
  },
  {
   "cell_type": "code",
   "execution_count": null,
   "metadata": {},
   "outputs": [],
   "source": [
    "1. Write a Python program to find the least common multiple (LCM) of two given integers.\n",
    "    Data:\n",
    "        lcm(4, 6)\n",
    "        lcm(15, 17)\n",
    "    Expected Output:\n",
    "        12\n",
    "        255\n",
    "        \n",
    "        \n",
    "        \n",
    "        "
   ]
  },
  {
   "cell_type": "code",
   "execution_count": null,
   "metadata": {},
   "outputs": [],
   "source": [
    "2. Write a Python function that takes a positive integer and returns the sum of the cube of all the positive integers \n",
    "   smaller than the specified number.\n",
    "    Data:\n",
    "        3\n",
    "    Expected Output:\n",
    "        Sum of cubes:  9\n",
    "            \n",
    "            \n",
    "            \n",
    "            "
   ]
  },
  {
   "cell_type": "code",
   "execution_count": null,
   "metadata": {},
   "outputs": [],
   "source": [
    "3. Write a Python program to remove and print every third number from a list of numbers until the list becomes empty.\n",
    "    Data:\n",
    "        nums = [10,20,30,40,50,60,70,80,90]\n",
    "    Expected Output:\n",
    "        30\n",
    "        60\n",
    "        90\n",
    "        40\n",
    "        80\n",
    "        50\n",
    "        20\n",
    "        70\n",
    "        10\n",
    "        \n",
    "        \n",
    "        \n",
    "        "
   ]
  },
  {
   "cell_type": "code",
   "execution_count": null,
   "metadata": {},
   "outputs": [],
   "source": [
    "4. Write a Python program to find unique triplets whose three elements gives the sum of zero from an array of n integers.\n",
    "    Data:\n",
    "        x = [1, -6, 4, 2, -1, 2, 0, -2, 0 ]\n",
    "    Expected Output:\n",
    "        [(-6, 2, 4)]\n",
    "        \n",
    "        \n",
    "        \n",
    "        "
   ]
  },
  {
   "cell_type": "code",
   "execution_count": null,
   "metadata": {},
   "outputs": [],
   "source": [
    "5. Write a Python program to find the value of n where n degrees of number 2 are written sequentially in a line without spaces.\n",
    "    Data:\n",
    "        \"2481632\"\n",
    "        \"248163264\"\n",
    "    Expected Output:\n",
    "        5\n",
    "        6\n",
    "        \n",
    "        \n",
    "        \n",
    "        "
   ]
  },
  {
   "cell_type": "code",
   "execution_count": null,
   "metadata": {},
   "outputs": [],
   "source": [
    "6. Write a Python program that accept a positive number and subtract from this number the sum of its digits and so on. \n",
    "   Continues this operation until the number is positive.\n",
    "    Data:\n",
    "        9\n",
    "        21\n",
    "    Expected Output:\n",
    "        1\n",
    "        3\n",
    "        \n",
    "        \n",
    "        \n",
    "        "
   ]
  },
  {
   "cell_type": "code",
   "execution_count": null,
   "metadata": {},
   "outputs": [],
   "source": [
    "7. Write a Python program to compute the summation of the absolute difference of all distinct pairs in an given array \n",
    "   (non-decreasing order).\n",
    "    Data:\n",
    "        [1, 2, 3]\n",
    "        [1,4,5]\n",
    "    Expected Output:\n",
    "        4\n",
    "        8\n",
    "        \n",
    "        \n",
    "        \n"
   ]
  },
  {
   "cell_type": "code",
   "execution_count": null,
   "metadata": {},
   "outputs": [],
   "source": [
    "8. Write a Python program to find common divisors between two numbers in a given pair.\n",
    "    Data:\n",
    "        (2, 4)\n",
    "        (2, 8)\n",
    "        (12, 24)\n",
    "    Expected Output:\n",
    "        Number of common divisors:  2\n",
    "        Number of common divisors:  2\n",
    "        Number of common divisors:  6\n",
    "            \n",
    "            \n",
    "            \n",
    "            "
   ]
  },
  {
   "cell_type": "code",
   "execution_count": null,
   "metadata": {},
   "outputs": [],
   "source": [
    "9. Write a Python program to reverse the digits of a given number and add it to the original,If the sum is not a palindrome \n",
    "   repeat this procedure.\n",
    "    Data:\n",
    "        1234\n",
    "        1473\n",
    "        121\n",
    "    Expected Output:\n",
    "        5555\n",
    "        9339\n",
    "        121\n",
    "        \n",
    "        \n",
    "        "
   ]
  },
  {
   "cell_type": "code",
   "execution_count": null,
   "metadata": {},
   "outputs": [],
   "source": [
    "10. Write a Python program to find the maximum sum of a contiguous subsequence from a given sequence of \n",
    "    numbers a1, a2, a3, ... an. A subsequence of one element is also a continuous subsequence.\n",
    "    Expected Output:\n",
    "        Input number of sequence of numbers you want to input (0 to exit):\n",
    "        2\n",
    "        Input numbers:\n",
    "        6\n",
    "        4\n",
    "        Maximum sum of the said contiguous subsequence:\n",
    "        10\n",
    "        Input number of sequence of numbers you want to input (0 to exit):\n",
    "        0\n",
    "        \n",
    "        \n",
    "        \n",
    "        "
   ]
  },
  {
   "cell_type": "code",
   "execution_count": null,
   "metadata": {},
   "outputs": [],
   "source": [
    "11. Write a Python program that reads n digits (given) chosen from 0 to 9 and prints the number of combinations \n",
    "    where the sum of the digits equals to another given number (s). Do not use the same digits in a combination. \n",
    "    Expected Output:\n",
    "        Input number of combinations and sum, input 0 0 to exit:\n",
    "        4 6\n",
    "        2 4\n",
    "        0 0\n",
    "        2\n",
    "        \n",
    "        \n",
    "        \n",
    "        "
   ]
  },
  {
   "cell_type": "code",
   "execution_count": null,
   "metadata": {},
   "outputs": [],
   "source": [
    "12. Write a Python program to compute the sum of first n given prime numbers.\n",
    "    Expected Output:\n",
    "        Input a number (n≤10000) to compute the sum:(0 to exit)\n",
    "        50\n",
    "        Sum of first 50 prime numbers:\n",
    "        5117\n",
    "        3456\n",
    "        Sum of first 3456 prime numbers:\n",
    "        52238131\n",
    "        0\n",
    "        \n",
    "        \n",
    "        \n",
    "        "
   ]
  },
  {
   "cell_type": "code",
   "execution_count": null,
   "metadata": {},
   "outputs": [],
   "source": [
    "13. Write a Python program to restore the original string by entering the compressed string with this rule. However, \n",
    "    the character does not appear in the restored character string. \n",
    "    Data:\n",
    "        XY#6Z1#4023\n",
    "        #39+1=1#30\n",
    "    Expected Output:\n",
    "        Original text: XY#6Z1#4023\n",
    "        XYZZZZZZ1000023\n",
    "        Original text: #39+1=1#30\n",
    "        999+1=1000\n",
    "        \n",
    "        \n",
    "        \n",
    "        "
   ]
  },
  {
   "cell_type": "code",
   "execution_count": null,
   "metadata": {},
   "outputs": [],
   "source": [
    "14. Write a Python program to find the number of combinations that satisfy p + q + r + s = n where n is a given \n",
    "    number <= 4000 and p, q, r, s in the range of 0 to 1000. \n",
    "    Expected Output:\n",
    "        Input a positive integer: (ctrl+d to exit)\n",
    "        343\n",
    "        Number of combinations of a,b,c,d: 6843880\n",
    "        d\n",
    "        \n",
    "        \n",
    "        \n",
    "        "
   ]
  },
  {
   "cell_type": "code",
   "execution_count": null,
   "metadata": {},
   "outputs": [],
   "source": [
    "15. Write a Python program which adds up columns and rows of given table as shown in the specified figure.\n",
    "    Input number of rows/columns (0 to exit)\n",
    "    Data:\n",
    "        Input cell value:\n",
    "        34 86 45 56\n",
    "        12 23 45 67\n",
    "    Expected Output:\n",
    "        Input number of rows/columns (0 to exit)\n",
    "        2\n",
    "        Input cell value:\n",
    "        34 86 45 56\n",
    "        12 23 45 67\n",
    "        Result:\n",
    "        34   86   45\n",
    "        12   23   45\n",
    "        46  109   90\n",
    "        Input number of rows/columns (0 to exit)\n",
    "        0\n",
    "        \n",
    "        \n",
    "        \n",
    "        "
   ]
  },
  {
   "cell_type": "code",
   "execution_count": null,
   "metadata": {},
   "outputs": [],
   "source": [
    "16. Write a Python program to calculate Euclid's totient function of a given integer. Use a primitive method to \n",
    "    calculate Euclid's totient function.\n",
    "    Data:\n",
    "        (10)\n",
    "        (15)\n",
    "        (33)\n",
    "    Expected Output:\n",
    "        4\n",
    "        8\n",
    "        20\n",
    "        \n",
    "        \n",
    "        \n",
    "        "
   ]
  },
  {
   "cell_type": "code",
   "execution_count": null,
   "metadata": {},
   "outputs": [],
   "source": [
    "17. Write a Python program to check if two given numbers are coprime or not. Return True if two numbers are coprime \n",
    "    otherwise return false. Go to the editor\n",
    "    Data:\n",
    "        (17, 13)\n",
    "        (15, 21)\n",
    "        (25, 45)\n",
    "    Expected Output:\n",
    "        True\n",
    "        True\n",
    "        False\n",
    "        False\n",
    "        \n",
    "        \n",
    "        \n",
    "        "
   ]
  },
  {
   "cell_type": "code",
   "execution_count": null,
   "metadata": {},
   "outputs": [],
   "source": [
    "18. Write a Python program to print a given N by M matrix of numbers line by line in forward > backwards > forward >... order.\n",
    "    Data:\n",
    "        Input matrix:\n",
    "            [[1, 2, 3,4],\n",
    "             [5, 6, 7, 8],\n",
    "             [0, 6, 2, 8],\n",
    "             [2, 3, 0, 2]]\n",
    "    Expected Output:\n",
    "        1\n",
    "        2\n",
    "        3\n",
    "        4\n",
    "        8\n",
    "        7\n",
    "        6\n",
    "        5\n",
    "        0\n",
    "        6\n",
    "        2\n",
    "        8\n",
    "        2\n",
    "        0\n",
    "        3\n",
    "        2\n",
    "        \n",
    "        \n",
    "        \n",
    "        "
   ]
  },
  {
   "cell_type": "code",
   "execution_count": null,
   "metadata": {},
   "outputs": [],
   "source": [
    "19. Write a Python program to remove all instances of a given value from a given array of integers and find the length of \n",
    "    the new array.\n",
    "    Data:\n",
    "        ([1, 2, 3, 4, 5, 6, 7, 5], 5)\n",
    "        ([10,10,10,10,10], 10)\n",
    "        ([10,10,10,10,10], 20)\n",
    "        ([], 1)\n",
    "    Expected Output:\n",
    "        6\n",
    "        0\n",
    "        5\n",
    "        0\n",
    "        \n",
    "        \n",
    "        \n",
    "        "
   ]
  }
 ],
 "metadata": {
  "kernelspec": {
   "display_name": "Python 3",
   "language": "python",
   "name": "python3"
  },
  "language_info": {
   "codemirror_mode": {
    "name": "ipython",
    "version": 3
   },
   "file_extension": ".py",
   "mimetype": "text/x-python",
   "name": "python",
   "nbconvert_exporter": "python",
   "pygments_lexer": "ipython3",
   "version": "3.8.5"
  }
 },
 "nbformat": 4,
 "nbformat_minor": 4
}

{
 "cells": [
  {
   "cell_type": "markdown",
   "metadata": {},
   "source": [
    "# String Intermediate Questions "
   ]
  },
  {
   "cell_type": "code",
   "execution_count": null,
   "metadata": {},
   "outputs": [],
   "source": [
    "1. Write a Python program to count the number of each character in a string.\n",
    "    Data:\n",
    "        \"aidinasaur.com\"\n",
    "    Expected Output:\n",
    "        {'a': 3, 'i': 2, 'd': 1, 'n': 1, 's': 1, 'u': 1, 'r': 1, '.': 1, 'c': 1, 'o': 1, 'm': 1}\n",
    "        \n",
    "        \n",
    "        \n",
    "        "
   ]
  },
  {
   "cell_type": "code",
   "execution_count": null,
   "metadata": {},
   "outputs": [],
   "source": [
    "2. Write a Python program to get a string made of the first 2 and the last 2 chars from a given a string. \n",
    "   If the string length is less than 2, return instead of the empty string.\n",
    "    Data:\n",
    "        'aidinasaur'\n",
    "        'ai'\n",
    "        'a'\n",
    "    Expected Output:\n",
    "        aiur\n",
    "        aiai\n",
    "        \n",
    "        \n",
    "        \n",
    "        "
   ]
  },
  {
   "cell_type": "code",
   "execution_count": null,
   "metadata": {},
   "outputs": [],
   "source": [
    "3. Write a Python program to get a string from a given string where all occurrences of its first char have been changed to '$',\n",
    "   except the first char itself. \n",
    "    Data:\n",
    "        'restart'\n",
    "    Expected Output:\n",
    "        resta$t\n",
    "        \n",
    "        \n",
    "        \n"
   ]
  },
  {
   "cell_type": "code",
   "execution_count": null,
   "metadata": {},
   "outputs": [],
   "source": [
    "4. Write a Python program to get a single string from two given strings, separated by a space and swap \n",
    "   the first two characters of each string. \n",
    "    Data:\n",
    "        'abc', 'xyz'\n",
    "    Expected Output:\n",
    "        xyc abz\n",
    "        \n",
    "        \n",
    "        \n"
   ]
  },
  {
   "cell_type": "code",
   "execution_count": null,
   "metadata": {},
   "outputs": [],
   "source": [
    "5. Write a Python program to add 'ing' at the end of a given string (length should be at least 3).If the given string already \n",
    "   ends with 'ing' then add 'ly' instead.If the string length of the given string is less than 3, leave it unchanged.\n",
    "    Data:\n",
    "        'abc'\n",
    "        'string'\n",
    "    Expected Output:\n",
    "        abcing\n",
    "        stringly\n",
    "        \n",
    "        \n",
    "        \n",
    "        "
   ]
  },
  {
   "cell_type": "code",
   "execution_count": null,
   "metadata": {},
   "outputs": [],
   "source": [
    "6. Write a Python program to find the first appearance of the substring 'not' and 'poor' from a given string, if 'not' \n",
    "   follows the 'poor', replace the whole 'not'...'poor' substring with 'good'. Return the resulting string.\n",
    "    Data:\n",
    "        'The lyrics is not that poor!\n",
    "        'The lyrics is good!'\n",
    "    Expected Output:\n",
    "        The lyrics is poor!\n",
    "        The lyrics is poor!\n",
    "        \n",
    "        \n",
    "        \n",
    "        "
   ]
  },
  {
   "cell_type": "code",
   "execution_count": null,
   "metadata": {},
   "outputs": [],
   "source": [
    "7. Write a Python function that takes a list of words and returns the longest word and the length of the longest one.\n",
    "    Data:\n",
    "        Longest word: Exercises\n",
    "    Expected Output:\n",
    "        Length of the longest word: 9\n",
    "            \n",
    "            \n",
    "            \n",
    "            "
   ]
  },
  {
   "cell_type": "code",
   "execution_count": null,
   "metadata": {},
   "outputs": [],
   "source": [
    "8. Write a Python program to count the occurrences of each word in a given sentence.\n",
    "    Data:\n",
    "        'Read and edit documents attached to emails'\n",
    "    Expected Output:\n",
    "        {'Read': 1, 'and': 1, 'edit': 1, 'documents': 1, 'attached': 1, 'to': 1, 'emails': 1}\n",
    "        \n",
    "        \n",
    "        \n",
    "        "
   ]
  },
  {
   "cell_type": "code",
   "execution_count": null,
   "metadata": {},
   "outputs": [],
   "source": [
    "9. Write a Python function to convert a given string to all uppercase if it contains at least 2 uppercase \n",
    "   characters in the first 4 characters.\n",
    "    Data:\n",
    "        'Python'\n",
    "        'PyThon'\n",
    "    Expected Output:\n",
    "        Python\n",
    "        PYTHON\n",
    "        \n",
    "        \n",
    "        \n",
    "        "
   ]
  },
  {
   "cell_type": "code",
   "execution_count": null,
   "metadata": {},
   "outputs": [],
   "source": [
    "10. Write a Python program to print the following floating numbers upto 2 decimal places.\n",
    "    Data:\n",
    "        x = 3.1415926\n",
    "        y = 12.9999\n",
    "    Expected Output:\n",
    "        Formatted Number: 3.14\n",
    "        Formatted Number: 13.00\n",
    "            \n",
    "            \n",
    "            \n",
    "            "
   ]
  },
  {
   "cell_type": "code",
   "execution_count": null,
   "metadata": {},
   "outputs": [],
   "source": [
    "11. Write a Python program to print the following floating numbers upto 2 decimal places with a sign.\n",
    "    Data:\n",
    "        x = 3.1415926 \n",
    "        y = -12.9999\n",
    "    Expected Output:\n",
    "        Formatted Number with sign: +3.14\n",
    "        Formatted Number with sign: -13.00\n",
    "            \n",
    "            \n",
    "            \n",
    "            "
   ]
  },
  {
   "cell_type": "code",
   "execution_count": null,
   "metadata": {},
   "outputs": [],
   "source": [
    "12. Write a Python program to print the following floating numbers with no decimal places.\n",
    "    Data:\n",
    "        x = 3.1415926\n",
    "        y = -12.9999\n",
    "    Expected Output:\n",
    "        Formatted Number with no decimal places: 3\n",
    "        Formatted Number with no decimal places: -13\n",
    "            \n",
    "            \n",
    "            \n",
    "            "
   ]
  },
  {
   "cell_type": "code",
   "execution_count": null,
   "metadata": {},
   "outputs": [],
   "source": [
    "13. Write a Python program to print the following integers with zeros on the left of specified width.\n",
    "    Data:\n",
    "        x = 3\n",
    "        y = 123\n",
    "    Expected Output:\n",
    "        Formatted Number(left padding, width 2): 03\n",
    "        Formatted Number(left padding, width 6): 000123\n",
    "            \n",
    "            \n",
    "            \n",
    "            "
   ]
  },
  {
   "cell_type": "code",
   "execution_count": null,
   "metadata": {},
   "outputs": [],
   "source": [
    "14. Write a Python program to print the following integers with '*' on the right of specified width.\n",
    "    Data:\n",
    "        x = 3\n",
    "        y = 123\n",
    "    Expected Output:\n",
    "        Formatted Number(right padding, width 2):  3*\n",
    "        Formatted Number(right padding, width 6):  123***\n",
    "            \n",
    "            \n",
    "            \n",
    "            "
   ]
  },
  {
   "cell_type": "code",
   "execution_count": null,
   "metadata": {},
   "outputs": [],
   "source": [
    "15. Write a Python program to display a number with a comma separator.\n",
    "    Data:\n",
    "        x = 3000000\n",
    "        y = 30000000\n",
    "    Expected Output:\n",
    "        Formatted Number with comma separator: 3,000,000\n",
    "        Formatted Number with comma separator: 30,000,000\n",
    "            \n",
    "            \n",
    "            \n",
    "            "
   ]
  },
  {
   "cell_type": "code",
   "execution_count": null,
   "metadata": {},
   "outputs": [],
   "source": [
    "16. Write a Python program to format a number with a percentage.\n",
    "    Data:\n",
    "        x = 0.25\n",
    "        y = -0.25\n",
    "    Expected Output:\n",
    "        Formatted Number with percentage: 25.00%\n",
    "        Formatted Number with percentage: -25.00%\n",
    "            \n",
    "            \n",
    "            \n",
    "            "
   ]
  },
  {
   "cell_type": "code",
   "execution_count": null,
   "metadata": {},
   "outputs": [],
   "source": [
    "17. Write a Python program to reverse words in a string.\n",
    "    Data:\n",
    "        \"Read and edit documents attached to emails.\"\n",
    "        \"Python Exercises.\"\n",
    "    Expected Output:\n",
    "        emails. to attached documents edit and Read\n",
    "        Exercises. Python\n",
    "        \n",
    "        \n",
    "        \n",
    "        "
   ]
  },
  {
   "cell_type": "code",
   "execution_count": null,
   "metadata": {},
   "outputs": [],
   "source": [
    "18. Write a Python program to strip vowels from a given string.\n",
    "    Data:\n",
    "        Original String:\n",
    "        \"Read and edit documents attached to emails.\"\n",
    "    Expected Output:\n",
    "        After stripping a,e,i,o,u\n",
    "        Rd nd dt dcmnts ttchd t mls.\n",
    "        \n",
    "        \n",
    "        \n",
    "        "
   ]
  },
  {
   "cell_type": "code",
   "execution_count": null,
   "metadata": {},
   "outputs": [],
   "source": [
    "19. Write a Python program to count repeated characters in a string.\n",
    "    Data:\n",
    "        string: 'thequickbrownfoxjumpsoverthelazydog'\n",
    "    Expected Output:\n",
    "        o 4\n",
    "        e 3\n",
    "        t 2\n",
    "        h 2\n",
    "        u 2\n",
    "        r 2\n",
    "        \n",
    "        \n",
    "        \n",
    "        "
   ]
  },
  {
   "cell_type": "code",
   "execution_count": null,
   "metadata": {},
   "outputs": [],
   "source": [
    "20. Write a Python program to print the square and cube symbol in the area of a rectangle and volume of a cylinder.\n",
    "    Data:\n",
    "        area = 1256.66\n",
    "        volume = 1254.725\n",
    "    Expected Output:\n",
    "        The area of the rectangle is 1256.66cm2\n",
    "        The volume of the cylinder is 1254.725cm3\n",
    "        \n",
    "        \n",
    "        \n",
    "        "
   ]
  }
 ],
 "metadata": {
  "kernelspec": {
   "display_name": "Python 3",
   "language": "python",
   "name": "python3"
  },
  "language_info": {
   "codemirror_mode": {
    "name": "ipython",
    "version": 3
   },
   "file_extension": ".py",
   "mimetype": "text/x-python",
   "name": "python",
   "nbconvert_exporter": "python",
   "pygments_lexer": "ipython3",
   "version": "3.8.5"
  }
 },
 "nbformat": 4,
 "nbformat_minor": 4
}

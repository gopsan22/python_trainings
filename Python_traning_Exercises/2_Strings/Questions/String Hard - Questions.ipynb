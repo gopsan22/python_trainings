{
 "cells": [
  {
   "cell_type": "markdown",
   "metadata": {},
   "source": [
    "# String Hard Questions"
   ]
  },
  {
   "cell_type": "code",
   "execution_count": null,
   "metadata": {},
   "outputs": [],
   "source": [
    "1. Write a Python program to find the first repeated character in a given string.\n",
    "    Data:\n",
    "        \"abcdabcd\"\n",
    "        \"abcd\"\n",
    "    Expected Output:\n",
    "        a\n",
    "        None\n",
    "        \n",
    "        \n",
    "        \n",
    "        "
   ]
  },
  {
   "cell_type": "code",
   "execution_count": null,
   "metadata": {},
   "outputs": [],
   "source": [
    "2. Write a Python program to find the first repeated character of a given string where the index of first occurrence is smallest.\n",
    "    Data:\n",
    "        \"abcabc\"\n",
    "        \"abcb\"\n",
    "        \"abcc\"\n",
    "        \"abcxxy\"\n",
    "        \"abc\"\n",
    "    Expected Output:\n",
    "        ('a', 0) \n",
    "        ('b', 1)\n",
    "        ('c', 2)\n",
    "        ('x', 3)\n",
    "        None\n",
    "        \n",
    "        \n",
    "        \n",
    "        "
   ]
  },
  {
   "cell_type": "code",
   "execution_count": null,
   "metadata": {},
   "outputs": [],
   "source": [
    "3. Write a Python program to find the second most repeated word in a given string.\n",
    "    Data:\n",
    "        x = (\"\"\"\"Both of these issues are fixed by postponing the evaluation of annotations. \n",
    "        Instead of compiling code which executes expressions in annotations at their definition time, the compiler stores the \n",
    "        annotation in a string form equivalent to the AST of the expression in question. If needed, \n",
    "        annotations can be resolved at runtime using typing.get_type_hints(). \n",
    "        In the common case where this is not required, \n",
    "        the annotations are cheaper to store (since short strings are interned by the interpreter) \n",
    "        and make startup time faster.\"\"\"\")\n",
    "    Expected Output:\n",
    "                ('of', 4)\n",
    "             \n",
    "             \n",
    "             \n",
    "             "
   ]
  },
  {
   "cell_type": "code",
   "execution_count": null,
   "metadata": {},
   "outputs": [],
   "source": [
    "4. Write a Python program to find the maximum occurring character in a given string.\n",
    "    Data:\n",
    "        \"Python: Get file creation and modification date/times\"\n",
    "        \"abcdefghijkb\"\n",
    "    Expected Output:\n",
    "        t\n",
    "        b\n",
    "        \n",
    "        \n",
    "        \n",
    "        "
   ]
  },
  {
   "cell_type": "code",
   "execution_count": null,
   "metadata": {},
   "outputs": [],
   "source": [
    "5. Write a Python program to capitalize first and last letters of each word of a given string.\n",
    "    Data:\n",
    "        \"python exercises practice solution\"\n",
    "        \"aidinasaur\"\n",
    "    Expected Output:\n",
    "        PythoN ExerciseS PracticE SolutioN\n",
    "        AidinasauR\n",
    "        \n",
    "        \n",
    "        \n",
    "        "
   ]
  },
  {
   "cell_type": "code",
   "execution_count": null,
   "metadata": {},
   "outputs": [],
   "source": [
    "6. Write a Python program to compute sum of digits of a given string.\n",
    "    Data:\n",
    "        \"123abcd45\"\n",
    "        \"abcd1234\"\n",
    "    Expected Output:\n",
    "        15\n",
    "        10\n",
    "        \n",
    "        \n",
    "        \n",
    "        "
   ]
  },
  {
   "cell_type": "code",
   "execution_count": null,
   "metadata": {},
   "outputs": [],
   "source": [
    "7. Write a Python program to find maximum length of consecutive 0's in a given binary string.\n",
    "    Data:\n",
    "        Original string:\n",
    "        111000010000110\n",
    "        111000111\n",
    "    Expected Output:\n",
    "        Maximum length of consecutive 0’s:\n",
    "        4\n",
    "        Maximum length of consecutive 0’s:\n",
    "        3\n",
    "\n",
    "        \n",
    "        \n",
    "        "
   ]
  },
  {
   "cell_type": "code",
   "execution_count": null,
   "metadata": {},
   "outputs": [],
   "source": [
    "8. Write a Python program to find all the common characters in lexicographical order from two given lower case strings. \n",
    "   If there are no common letters print \"No common characters\".\n",
    "    Data:\n",
    "        Two strings: Python : PHP\n",
    "        Two strings: Java : PHP\n",
    "    Expected Output:\n",
    "        P\n",
    "        No common characters.\n",
    "        \n",
    "        \n",
    "        \n",
    "        "
   ]
  },
  {
   "cell_type": "code",
   "execution_count": null,
   "metadata": {},
   "outputs": [],
   "source": [
    "9. Write a Python program to make two given strings (lower case, may or may not be of the same length) \n",
    "   anagrams removing any characters from any of the strings.\n",
    "    Data:\n",
    "        \"marvelboss gaming\"\n",
    "        \"marvelboss timepss\"\n",
    "    Expected Output:\n",
    "        9\n",
    "        \n",
    "        \n",
    "        \n",
    "        "
   ]
  },
  {
   "cell_type": "code",
   "execution_count": null,
   "metadata": {},
   "outputs": [],
   "source": [
    "10. Write a Python program to remove all consecutive duplicates of a given string.\n",
    "    Data:\n",
    "        str1 = 'xxxxxyyyyy'\n",
    "    Expected Output:\n",
    "        After removing consecutive duplicates: xxxxxyyyyy\n",
    "        xy\n",
    "        \n",
    "        \n",
    "        \n",
    "        "
   ]
  },
  {
   "cell_type": "code",
   "execution_count": null,
   "metadata": {},
   "outputs": [],
   "source": [
    "11. Write a Python program to find the longest common sub-string from two given strings.\n",
    "    Data:\n",
    "        Original Substrings:\n",
    "        abcdefgh\n",
    "        xswerabcdwd\n",
    "    Expected Output:\n",
    "        Common longest sub string:\n",
    "        abcd\n",
    "        \n",
    "        \n",
    "        \n",
    "        "
   ]
  },
  {
   "cell_type": "code",
   "execution_count": null,
   "metadata": {},
   "outputs": [],
   "source": [
    "12. Write a Python program to move all spaces to the front of a given string in single traversal.\n",
    "    Data:\n",
    "        Original String:\n",
    "        Python Exercises\n",
    "    Expected Output:\n",
    "        After moving all spaces to the front:\n",
    "        PythonExercises  \n",
    "        \n",
    "        \n",
    "        \n",
    "        "
   ]
  },
  {
   "cell_type": "code",
   "execution_count": null,
   "metadata": {},
   "outputs": [],
   "source": [
    "13. Write a Python code to remove all characters except a specified character in a given string. \n",
    "    Data:\n",
    "        Original string\n",
    "        \"Python Exercises\"\n",
    "        \"google\"\n",
    "        \"exercises\"\n",
    "    Expected Output:\n",
    "        Remove all characters except P in the said string:\n",
    "        P\n",
    "        Remove all characters except g in the said string:\n",
    "        gg\n",
    "        Remove all characters except e in the said string:\n",
    "        eee\n",
    "        \n",
    "        \n",
    "        \n",
    "        "
   ]
  },
  {
   "cell_type": "code",
   "execution_count": null,
   "metadata": {},
   "outputs": [],
   "source": [
    "14. Write a Python program to count Uppercase, Lowercase, special character and numeric values in a given string.\n",
    "    Data:\n",
    "        Original Substrings: @Aidinasaur.Com\n",
    "    Expected Output:\n",
    "        Upper case characters:  2\n",
    "        Lower case characters:  11\n",
    "        Number case:  0\n",
    "        Special case characters:  2\n",
    "            \n",
    "            \n",
    "            \n",
    "            "
   ]
  },
  {
   "cell_type": "code",
   "execution_count": null,
   "metadata": {},
   "outputs": [],
   "source": [
    "15. Write a Python program to find the minimum window in a given string which will contain all\n",
    "    the characters of another given string.\n",
    "    Data:\n",
    "        Original Strings:\n",
    "        PRWSOERIUSFK \n",
    "        OSU\n",
    "    Expected Output:\n",
    "        Minimum window:\n",
    "        OERIUS \n",
    "        \n",
    "        \n",
    "        \n",
    "        "
   ]
  },
  {
   "cell_type": "code",
   "execution_count": null,
   "metadata": {},
   "outputs": [],
   "source": [
    "16. Write a Python program to find smallest window that contains all characters of a given string.\n",
    "    Data:\n",
    "        Original Strings:\n",
    "        asdaewsqgtwwsa\n",
    "    Expected Output:\n",
    "        Smallest window that contains all characters of the said string:\n",
    "        daewsqgt\n",
    "        \n",
    "        \n",
    "        \n",
    "        "
   ]
  },
  {
   "cell_type": "code",
   "execution_count": null,
   "metadata": {},
   "outputs": [],
   "source": [
    "17. Write a Python program to find smallest and largest word in a given string.\n",
    "    Data:\n",
    "        Original Strings:\n",
    "        Write a Java program to sort an array of given integers using Quick sort Algorithm.\n",
    "    Expected Output:\n",
    "        Smallest word: a\n",
    "        Largest word: Algorithm.\n",
    "            \n",
    "            \n",
    "            \n"
   ]
  },
  {
   "cell_type": "code",
   "execution_count": null,
   "metadata": {},
   "outputs": [],
   "source": [
    "18. Write a Python program to find the index of a given string at which a given substring starts. If the substring is \n",
    "    not found in the given string return 'Not found\n",
    "    Data:\n",
    "        \"Ex\"\n",
    "        \"yt\"\n",
    "        \"PY\"\n",
    "    Expected Output:\n",
    "        7\n",
    "        1\n",
    "        Not found\n",
    "        \n",
    "        \n",
    "        \n",
    "        "
   ]
  },
  {
   "cell_type": "code",
   "execution_count": null,
   "metadata": {},
   "outputs": [],
   "source": [
    "19. Write a Python program to swap cases of a given string.\n",
    "    Data:\n",
    "        \"Python Exercises\"\n",
    "        \"Java\"\n",
    "        \"NumPy\"\n",
    "    Expected Output:\n",
    "        pYTHON eXERCISES\n",
    "        jAVA\n",
    "        nUMpY\n",
    "        \n",
    "        \n",
    "        \n",
    "        "
   ]
  },
  {
   "cell_type": "code",
   "execution_count": null,
   "metadata": {},
   "outputs": [],
   "source": [
    "20. Write a Python program to convert a given Bytearray to Hexadecimal string.\n",
    "    Data:\n",
    "        Original Bytearray :\n",
    "        [111, 12, 45, 67, 109]\n",
    "    Expected Output:\n",
    "        Hexadecimal string:\n",
    "        6f0c2d436d\n",
    "        \n",
    "        \n",
    "        \n",
    "        "
   ]
  }
 ],
 "metadata": {
  "kernelspec": {
   "display_name": "Python 3",
   "language": "python",
   "name": "python3"
  },
  "language_info": {
   "codemirror_mode": {
    "name": "ipython",
    "version": 3
   },
   "file_extension": ".py",
   "mimetype": "text/x-python",
   "name": "python",
   "nbconvert_exporter": "python",
   "pygments_lexer": "ipython3",
   "version": "3.8.5"
  }
 },
 "nbformat": 4,
 "nbformat_minor": 4
}

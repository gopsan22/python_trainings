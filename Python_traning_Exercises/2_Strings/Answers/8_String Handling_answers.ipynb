{
 "cells": [
  {
   "cell_type": "raw",
   "metadata": {},
   "source": [
    "Python Program to Replace all Occurrences of ‘a’ with $ in a String\n",
    "\n",
    "Given String = \"apple\""
   ]
  },
  {
   "cell_type": "code",
   "execution_count": 1,
   "metadata": {},
   "outputs": [
    {
     "name": "stdout",
     "output_type": "stream",
     "text": [
      "$pple\n"
     ]
    }
   ],
   "source": [
    "a = \"apple\"\n",
    "b = a.replace(\"a\",\"$\")\n",
    "print(b)"
   ]
  },
  {
   "cell_type": "raw",
   "metadata": {},
   "source": [
    "2.Python Program to Remove the 5th Index Character from a String"
   ]
  },
  {
   "cell_type": "code",
   "execution_count": 7,
   "metadata": {},
   "outputs": [
    {
     "name": "stdout",
     "output_type": "stream",
     "text": [
      "python\n",
      "pytho\n"
     ]
    }
   ],
   "source": [
    "a='python'\n",
    "c=a.replace(a[5],\"\")\n",
    "\n",
    "print(a)\n",
    "print(c)\n",
    "\n",
    "\n"
   ]
  },
  {
   "cell_type": "raw",
   "metadata": {},
   "source": [
    "3.Python Program to Form a New String where the First Character and the Last Character have been Exchanged"
   ]
  },
  {
   "cell_type": "code",
   "execution_count": 70,
   "metadata": {},
   "outputs": [],
   "source": [
    "def SwapFirstLastCharacter(s):\n",
    "    c=s[-1]+s[1:-1]+s[0]\n",
    "    print(c)"
   ]
  },
  {
   "cell_type": "code",
   "execution_count": 71,
   "metadata": {
    "scrolled": true
   },
   "outputs": [
    {
     "name": "stdout",
     "output_type": "stream",
     "text": [
      "Enter a string to swap first and last character :python\n",
      "nythop\n"
     ]
    }
   ],
   "source": [
    "a=input(\"Enter a string to swap first and last character :\")\n",
    "SwapFirstLastCharacter(a)"
   ]
  },
  {
   "cell_type": "raw",
   "metadata": {},
   "source": [
    "4.Python Program to Count the Number of Vowels in a String"
   ]
  },
  {
   "cell_type": "code",
   "execution_count": 81,
   "metadata": {},
   "outputs": [
    {
     "name": "stdout",
     "output_type": "stream",
     "text": [
      "Enter the string:gopal\n",
      "2\n"
     ]
    }
   ],
   "source": [
    "s=input(\"Enter the string:\")\n",
    "vow=\"aeiou\"\n",
    "count=0\n",
    "for i in range(len(s)):\n",
    "    for j in range(len(vow)):\n",
    "        if(s[i]==vow[j]):\n",
    "            #print(s[i],vow[j])\n",
    "            count=count+1\n",
    "            \n",
    "print(count)          "
   ]
  },
  {
   "cell_type": "raw",
   "metadata": {},
   "source": [
    "5.Python Program to Take in a String and Replace Every Blank Space with Hyphen"
   ]
  },
  {
   "cell_type": "code",
   "execution_count": 83,
   "metadata": {},
   "outputs": [
    {
     "name": "stdout",
     "output_type": "stream",
     "text": [
      "Enter the string with blank space :Python           is        good\n",
      "Python-----------is--------good\n"
     ]
    }
   ],
   "source": [
    "s=input(\"Enter the string with blank space :\")\n",
    "s1=s.replace(\" \",\"-\")\n",
    "print(s1)"
   ]
  },
  {
   "cell_type": "raw",
   "metadata": {},
   "source": [
    "6.Python Program to Calculate the Length of a String Without Using a Library Function"
   ]
  },
  {
   "cell_type": "code",
   "execution_count": 86,
   "metadata": {},
   "outputs": [
    {
     "name": "stdout",
     "output_type": "stream",
     "text": [
      "Enter the String :Calculate\n",
      "9\n"
     ]
    }
   ],
   "source": [
    "s=input(\"Enter the String :\")\n",
    "count=0\n",
    "for i in s:\n",
    "    if(i != ''):\n",
    "        count=count+1\n",
    "\n",
    "print(count)"
   ]
  },
  {
   "cell_type": "raw",
   "metadata": {},
   "source": [
    "7.Python Program to Remove the Characters of Odd Index Values in a String"
   ]
  },
  {
   "cell_type": "code",
   "execution_count": 106,
   "metadata": {},
   "outputs": [
    {
     "name": "stdout",
     "output_type": "stream",
     "text": [
      "Enter the String :gopal\n",
      "gpl\n"
     ]
    }
   ],
   "source": [
    "s=input(\"Enter the String :\")\n",
    "b=\"\"\n",
    "for i in s:\n",
    "    v=s.index(i)\n",
    "    if((v%2 == 0)):\n",
    "        b = b + s[v]\n",
    "\n",
    "print(b)"
   ]
  },
  {
   "cell_type": "raw",
   "metadata": {},
   "source": [
    "8.Python Program to Calculate the Number of Words and the Number of Characters Present in a String"
   ]
  },
  {
   "cell_type": "code",
   "execution_count": 110,
   "metadata": {},
   "outputs": [
    {
     "name": "stdout",
     "output_type": "stream",
     "text": [
      "Enter the string :python is good\n",
      "Number of words 3\n",
      "Number of characters 14\n"
     ]
    }
   ],
   "source": [
    "s=input(\"Enter the string :\")\n",
    "s1=s.split()\n",
    "print(\"Number of words\",len(s1))\n",
    "print(\"Number of characters\",len(s))"
   ]
  },
  {
   "cell_type": "raw",
   "metadata": {},
   "source": [
    "9.Python Program to Take in Two Strings and Display the Larger String without Using Built-in Functions"
   ]
  },
  {
   "cell_type": "code",
   "execution_count": 112,
   "metadata": {},
   "outputs": [
    {
     "name": "stdout",
     "output_type": "stream",
     "text": [
      "Enter the string1 :Pythonization\n",
      "Enter the string2 :Collaborate\n",
      "Pythonization\n"
     ]
    }
   ],
   "source": [
    "s1=input('Enter the string1 :')\n",
    "s2=input(\"Enter the string2 :\")\n",
    "b=len(s1)\n",
    "c=len(s2)\n",
    "if(b>c):\n",
    "    print(s1)\n",
    "else:\n",
    "    print(s2)"
   ]
  },
  {
   "cell_type": "raw",
   "metadata": {},
   "source": [
    "10.Python Program to Count Number of Lowercase Characters in a String"
   ]
  },
  {
   "cell_type": "code",
   "execution_count": 115,
   "metadata": {},
   "outputs": [
    {
     "name": "stdout",
     "output_type": "stream",
     "text": [
      "Enter the string :StrINgs\n",
      "4\n"
     ]
    }
   ],
   "source": [
    "s=input('Enter the string :')\n",
    "count=0\n",
    "for i in s:\n",
    "    if(i.islower()):\n",
    "        count+=1\n",
    "print(count)"
   ]
  },
  {
   "cell_type": "raw",
   "metadata": {},
   "source": [
    "11.Python Program to Check if a String is a Palindrome or Not"
   ]
  },
  {
   "cell_type": "code",
   "execution_count": 120,
   "metadata": {},
   "outputs": [
    {
     "name": "stdout",
     "output_type": "stream",
     "text": [
      "Enter the String :gopal\n",
      "String is NOT a Palindrome\n"
     ]
    }
   ],
   "source": [
    "a=input(\"Enter the String :\")\n",
    "b=\"\"\n",
    "\n",
    "for i in range(len(a)):\n",
    "    b+=a[(len(a)-1) - i]\n",
    "\n",
    "if(a==b):\n",
    "    print(\"String is a Palindrome\")\n",
    "else:\n",
    "    print(\"String is NOT a Palindrome\")"
   ]
  },
  {
   "cell_type": "raw",
   "metadata": {},
   "source": [
    "12.Python Program to Calculate the Number of Upper Case Letters and Lower Case Letters in a String"
   ]
  },
  {
   "cell_type": "code",
   "execution_count": 121,
   "metadata": {},
   "outputs": [
    {
     "name": "stdout",
     "output_type": "stream",
     "text": [
      "Enter the string :PalinDROME\n",
      "Number of Upper Case Letters 6 \n",
      "Number of lower Case Letters 4 \n"
     ]
    }
   ],
   "source": [
    "s=input('Enter the string :')\n",
    "cnt_upper=0\n",
    "cnt_lower=0\n",
    "for i in s:\n",
    "    if(i.islower()):\n",
    "        cnt_lower+=1\n",
    "    else:\n",
    "        cnt_upper+=1\n",
    "        \n",
    "print(\"Number of Upper Case Letters {} \".format(cnt_upper))\n",
    "print(\"Number of lower Case Letters {} \".format(cnt_lower))"
   ]
  },
  {
   "cell_type": "raw",
   "metadata": {},
   "source": [
    "13.Python Program to Calculate the Number of Digits and Letters in a String"
   ]
  },
  {
   "cell_type": "code",
   "execution_count": 123,
   "metadata": {},
   "outputs": [
    {
     "name": "stdout",
     "output_type": "stream",
     "text": [
      "Enter the string :Gopal has 22 books\n",
      "Number of Digits in Strings 2 \n",
      "Number of Letters in Strings 16 \n"
     ]
    }
   ],
   "source": [
    "s=input('Enter the string :')\n",
    "cnt_digit=0\n",
    "cnt_lters=0\n",
    "for i in s:\n",
    "    if(i.isdigit()):\n",
    "        cnt_digit+=1\n",
    "    else:\n",
    "        cnt_lters+=1\n",
    "print(\"Number of Digits in Strings {} \".format(cnt_digit))\n",
    "print(\"Number of Letters in Strings {} \".format(cnt_lters))"
   ]
  },
  {
   "cell_type": "raw",
   "metadata": {},
   "source": [
    "14.Python Program to Form a New String Made of the First 2 and Last 2 characters From a Given String"
   ]
  },
  {
   "cell_type": "code",
   "execution_count": 128,
   "metadata": {},
   "outputs": [
    {
     "name": "stdout",
     "output_type": "stream",
     "text": [
      "Enter the string :gopal\n",
      "goal\n"
     ]
    }
   ],
   "source": [
    "s=input(\"Enter the string :\")\n",
    "new=s[:2]+s[-2:]\n",
    "print(new)\n"
   ]
  },
  {
   "cell_type": "raw",
   "metadata": {},
   "source": [
    "15.Python Program to Count the Occurrences of Each Word in a Given String Sentence\n",
    "\n",
    "\"Everybody is selfish , the ratio diferrs , time to time , person to to person\"\n",
    "\n",
    "count the occurance of \"time\""
   ]
  },
  {
   "cell_type": "code",
   "execution_count": 147,
   "metadata": {},
   "outputs": [
    {
     "name": "stdout",
     "output_type": "stream",
     "text": [
      "Enter the string:Everybody is selfish , the ratio diferrs , time to time , person to to person\n",
      "Number of occurenes of time is 2\n"
     ]
    }
   ],
   "source": [
    "s1=input(\"Enter the string:\")\n",
    "s2=s1.split(\" \")\n",
    "c1=\"time\"\n",
    "c1_cnt=0\n",
    "\n",
    "for i in range(len(s2)):\n",
    "    if(s2[i]==c1):\n",
    "        c1_cnt+=1\n",
    "    else:\n",
    "        continue\n",
    "print(\"Number of occurenes of {} is {}\".format(c1, c1_cnt))"
   ]
  },
  {
   "cell_type": "code",
   "execution_count": null,
   "metadata": {},
   "outputs": [],
   "source": []
  }
 ],
 "metadata": {
  "kernelspec": {
   "display_name": "Python 3 (ipykernel)",
   "language": "python",
   "name": "python3"
  },
  "language_info": {
   "codemirror_mode": {
    "name": "ipython",
    "version": 3
   },
   "file_extension": ".py",
   "mimetype": "text/x-python",
   "name": "python",
   "nbconvert_exporter": "python",
   "pygments_lexer": "ipython3",
   "version": "3.10.9"
  }
 },
 "nbformat": 4,
 "nbformat_minor": 2
}

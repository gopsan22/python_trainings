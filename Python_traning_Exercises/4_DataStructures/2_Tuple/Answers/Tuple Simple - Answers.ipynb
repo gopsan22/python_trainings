{
 "cells": [
  {
   "cell_type": "markdown",
   "metadata": {},
   "source": [
    "# Tuples Simple Questions "
   ]
  },
  {
   "cell_type": "code",
   "execution_count": 1,
   "metadata": {},
   "outputs": [],
   "source": [
    "1. Write a Python program to print convert a list into a tuple.\n",
    "    Data:\n",
    "        x = [1,2]\n",
    "    Expected Output:\n",
    "        x - [1, 2]\n",
    "        <class 'list'>\n",
    "        y - (1, 2)\n",
    "        <class 'tuple'>        \n",
    "        \n",
    "        \n",
    "        "
   ]
  },
  {
   "cell_type": "code",
   "execution_count": 1,
   "metadata": {},
   "outputs": [
    {
     "name": "stdout",
     "output_type": "stream",
     "text": [
      "[1, 2] \n",
      " <class 'list'>\n",
      "(1, 2) \n",
      " <class 'tuple'>\n"
     ]
    }
   ],
   "source": [
    "x=[1,2]\n",
    "print(x,\"\\n\",type(x))\n",
    "y=tuple(x)\n",
    "print(y,\"\\n\",type(y))"
   ]
  },
  {
   "cell_type": "code",
   "execution_count": 2,
   "metadata": {},
   "outputs": [],
   "source": [
    "2. Write a Python program to create a tuple with different data types.\n",
    "    Data:\n",
    "        x = (\"tuples\",3.2, 1)\n",
    "    Expected Output:\n",
    "        ('tuples', 3.2, 1)\n",
    "        \n",
    "        \n",
    "        \n",
    "        "
   ]
  },
  {
   "cell_type": "code",
   "execution_count": 2,
   "metadata": {},
   "outputs": [
    {
     "name": "stdout",
     "output_type": "stream",
     "text": [
      "('tuples', 3.2, 1)\n"
     ]
    }
   ],
   "source": [
    "tuple = (\"tuples\",3.2, 1)\n",
    "print(tuple)"
   ]
  },
  {
   "cell_type": "code",
   "execution_count": 3,
   "metadata": {},
   "outputs": [],
   "source": [
    "3. Write a Python program to create a tuple with numbers and print the items one by one.\n",
    "    Data:\n",
    "        x = 5, 10, 15, 20, 25\n",
    "    Expected Output:\n",
    "        <class 'tuple'> \n",
    "        (5, 10, 15, 20, 25)\n",
    "        5\n",
    "        10\n",
    "        15\n",
    "        20\n",
    "        25\n",
    "        \n",
    "        \n",
    "        "
   ]
  },
  {
   "cell_type": "code",
   "execution_count": 6,
   "metadata": {},
   "outputs": [
    {
     "name": "stdout",
     "output_type": "stream",
     "text": [
      "<class 'tuple'>\n",
      "(5, 10, 15, 20, 25)\n",
      "5\n",
      "10\n",
      "15\n",
      "20\n",
      "25\n"
     ]
    }
   ],
   "source": [
    "x = (5, 10, 15, 20, 25)\n",
    "print(type(x))\n",
    "print(x)\n",
    "for i in x:\n",
    "    print(i)"
   ]
  },
  {
   "cell_type": "code",
   "execution_count": 4,
   "metadata": {},
   "outputs": [],
   "source": [
    "4. Write a Python program to convert a tuple of characters into a string.\n",
    "    Data:\n",
    "        x = ('v', 'o', 'l', 'a', 't', 'a', 'l', 'i', 't', 'y')\n",
    "    Expected Output:\n",
    "        volatility\n",
    "        \n",
    "        \n",
    "        \n",
    "        "
   ]
  },
  {
   "cell_type": "code",
   "execution_count": 8,
   "metadata": {},
   "outputs": [
    {
     "name": "stdout",
     "output_type": "stream",
     "text": [
      "volatality\n"
     ]
    }
   ],
   "source": [
    "x = ('v', 'o', 'l', 'a', 't', 'a', 'l', 'i', 't', 'y')\n",
    "y=\"\"\n",
    "for i in x:\n",
    "    y+=i\n",
    "print(y)"
   ]
  },
  {
   "cell_type": "code",
   "execution_count": 5,
   "metadata": {},
   "outputs": [],
   "source": [
    "5. Write a Python program to convert a tuple into a list.\n",
    "    Data:\n",
    "        x=(1,2,3)\n",
    "    Expected Output:\n",
    "        (1, 2, 3)\n",
    "        [1, 2, 3]\n",
    "        \n",
    "        \n",
    "        \n",
    "        "
   ]
  },
  {
   "cell_type": "code",
   "execution_count": 9,
   "metadata": {},
   "outputs": [
    {
     "name": "stdout",
     "output_type": "stream",
     "text": [
      "(1, 2, 3)\n",
      "[1, 2, 3]\n"
     ]
    }
   ],
   "source": [
    "x=(1,2,3)\n",
    "y=list(x)\n",
    "print(x)\n",
    "print(y)"
   ]
  },
  {
   "cell_type": "code",
   "execution_count": 6,
   "metadata": {},
   "outputs": [],
   "source": [
    "6. Write a Python program to remove an element from a tuple.\n",
    "    Data:\n",
    "        x = (\"a\",\"b\",\"c\",\"d\")\n",
    "    Expected Output:\n",
    "        ('a', 'b', 'd')\n",
    "        \n",
    "        \n",
    "        \n",
    "        "
   ]
  },
  {
   "cell_type": "code",
   "execution_count": 1,
   "metadata": {
    "scrolled": true
   },
   "outputs": [
    {
     "name": "stdout",
     "output_type": "stream",
     "text": [
      "['a', 'b', 'c', 'd']\n",
      "['a', 'b', 'd']\n",
      "<class 'list'>\n",
      "('a', 'b', 'd')\n"
     ]
    }
   ],
   "source": [
    "x = (\"a\",\"b\",\"c\",\"d\")\n",
    "y = list(x)\n",
    "print(y)\n",
    "y.remove(\"c\")\n",
    "print(y)\n",
    "print(type(y))\n",
    "x=tuple(y)\n",
    "print(x)"
   ]
  },
  {
   "cell_type": "code",
   "execution_count": 7,
   "metadata": {},
   "outputs": [],
   "source": [
    "7. Write a Python program to find the length of a tuple.\n",
    "    Data:\n",
    "        x = (\"positions\")\n",
    "    Expected Output:\n",
    "        ('p', 'o', 's', 'i', 't', 'i', 'o', 'n', 's')\n",
    "    \n",
    "        "
   ]
  },
  {
   "cell_type": "code",
   "execution_count": 2,
   "metadata": {},
   "outputs": [
    {
     "name": "stdout",
     "output_type": "stream",
     "text": [
      "9\n",
      "('p', 'o', 's', 'i', 't', 'i', 'o', 'n', 's')\n"
     ]
    }
   ],
   "source": [
    "x = tuple(\"positions\")\n",
    "print(len(x))\n",
    "print(x)"
   ]
  },
  {
   "cell_type": "code",
   "execution_count": 8,
   "metadata": {},
   "outputs": [],
   "source": [
    "8. Write a Python program to convert a tuple into a dictionary.\n",
    "    Data:\n",
    "        x = ((2, \"w\"),(3, \"r\"))\n",
    "    Expected Output:\n",
    "        {'w': 2, 'r': 3}\n",
    "        "
   ]
  },
  {
   "cell_type": "code",
   "execution_count": 9,
   "metadata": {},
   "outputs": [
    {
     "name": "stdout",
     "output_type": "stream",
     "text": [
      "typecast to dictionary:  {2: 'w', 3: 'r'}\n",
      "Swap Key and values in dictionary :  {'w': 2, 'r': 3}\n"
     ]
    }
   ],
   "source": [
    "x = ((2, \"w\"),(3, \"r\"))\n",
    "\n",
    "#typecast to dictionary\n",
    "y=dict(x)\n",
    "print(\"typecast to dictionary: \",y)\n",
    "#Swap key and value in dictionary\n",
    "z = dict([(value,  key) for key, value in y.items()])\n",
    "print(\"Swap Key and values in dictionary : \",z)"
   ]
  },
  {
   "cell_type": "code",
   "execution_count": 9,
   "metadata": {},
   "outputs": [],
   "source": [
    "9. Write a Python program to reverse the tuple elements.\n",
    "    Data:\n",
    "        x = (\"Baskar\")\n",
    "        x = (5, 10, 15, 20)\n",
    "    Expected Output:\n",
    "        ('r', 'a', 'k', 's', 'a', 'B')\n",
    "        (20, 15, 10, 5)\n",
    "        \n",
    "        "
   ]
  },
  {
   "cell_type": "code",
   "execution_count": 15,
   "metadata": {},
   "outputs": [
    {
     "name": "stdout",
     "output_type": "stream",
     "text": [
      "('r', 'a', 'k', 's', 'a', 'B')\n",
      "(20, 15, 10, 5)\n"
     ]
    }
   ],
   "source": [
    "x = (\"Baskar\")\n",
    "y = (5, 10, 15, 20)\n",
    "\n",
    "#typecast to list, reverse it and then typecast back to tuple.\n",
    "listx = list(x)\n",
    "listy = list(y)\n",
    "listx.reverse()\n",
    "listy.reverse()\n",
    "tuplex = tuple(listx)\n",
    "tupley = tuple(listy)\n",
    "print(tuplex)\n",
    "print(tupley)"
   ]
  },
  {
   "cell_type": "code",
   "execution_count": 10,
   "metadata": {},
   "outputs": [],
   "source": [
    "10. Write a Python program to unpack a tuple in several variables.  \n",
    "    Data:\n",
    "        x = 4, 8, 3\n",
    "    Expected Output:\n",
    "        (4, 8, 3)\n",
    "        15\n",
    "        \n",
    "        \n",
    "        \n",
    "        "
   ]
  },
  {
   "cell_type": "code",
   "execution_count": 32,
   "metadata": {},
   "outputs": [
    {
     "name": "stdout",
     "output_type": "stream",
     "text": [
      "{8, 3, 4}\n",
      "15\n"
     ]
    }
   ],
   "source": [
    "x={4,8,3}\n",
    "a,b,c=x\n",
    "print(x)\n",
    "print(a+b+c)"
   ]
  },
  {
   "cell_type": "code",
   "execution_count": 1,
   "metadata": {},
   "outputs": [],
   "source": [
    "11. Write a Python program to create a nested tuple.\n",
    "    Data:\n",
    "        x = (\"Boss\", [8, 4, 6], (1, 2, 3)) \n",
    "    Expected Output:\n",
    "        ('Boss', [8, 4, 6], (1, 2, 3))        \n",
    "        "
   ]
  },
  {
   "cell_type": "code",
   "execution_count": 43,
   "metadata": {},
   "outputs": [
    {
     "name": "stdout",
     "output_type": "stream",
     "text": [
      "('boss', [8, 4, 6], (1, 2, 3))\n"
     ]
    }
   ],
   "source": [
    "x=(\"boss\"),\n",
    "y=([8,4,6]),\n",
    "z=(1,2,3),\n",
    "\n",
    "tuplenested = tuple(x+y+z)\n",
    "print(tuplenested)"
   ]
  },
  {
   "cell_type": "code",
   "execution_count": 2,
   "metadata": {},
   "outputs": [],
   "source": [
    "12. Write a Python program to convert a string into a tuple.\n",
    "    Data:\n",
    "        x = (\"hello\")\n",
    "    Expected Output:\n",
    "        <class 'str'>\n",
    "        <class 'tuple'>\n",
    "        \n",
    "        \n",
    "    "
   ]
  },
  {
   "cell_type": "code",
   "execution_count": 46,
   "metadata": {},
   "outputs": [
    {
     "name": "stdout",
     "output_type": "stream",
     "text": [
      "<class 'str'>\n",
      "<class 'tuple'>\n"
     ]
    }
   ],
   "source": [
    "x = (\"hello\")\n",
    "y = tuple(x)\n",
    "print(type(x))\n",
    "print(type(y))"
   ]
  },
  {
   "cell_type": "code",
   "execution_count": 3,
   "metadata": {},
   "outputs": [],
   "source": [
    "13. Write a Python program to access tuple elements using index.\n",
    "    Data:\n",
    "        x = ('B','a','s','k','a','r')\n",
    "    Expected Output:\n",
    "        x[0] is : B\n",
    "        x[5] is : r\n",
    "\n",
    "        "
   ]
  },
  {
   "cell_type": "code",
   "execution_count": 50,
   "metadata": {},
   "outputs": [
    {
     "name": "stdout",
     "output_type": "stream",
     "text": [
      "x[0] is : B\n",
      "x[5] is : r\n"
     ]
    }
   ],
   "source": [
    "x = ('B','a','s','k','a','r')\n",
    "print(\"x[0] is :\",x[0])\n",
    "print(\"x[5] is :\",x[5])"
   ]
  },
  {
   "cell_type": "code",
   "execution_count": 4,
   "metadata": {},
   "outputs": [],
   "source": [
    "14. Write a Python program to access nested tuple elements using index. \n",
    "    Data:\n",
    "        x = (\"Boss\", [8, 4, 6], (1, 2, 3)) \n",
    "    Expected Output:\n",
    "        x[0][3] is : s\n",
    "        x[1][1] is : 4\n",
    "        \n",
    "                "
   ]
  },
  {
   "cell_type": "code",
   "execution_count": 56,
   "metadata": {},
   "outputs": [
    {
     "name": "stdout",
     "output_type": "stream",
     "text": [
      "x[0][3] is : s\n",
      "x[1][1] is : 4\n"
     ]
    }
   ],
   "source": [
    "x = (\"Boss\", [8, 4, 6], (1, 2, 3))\n",
    "print(\"x[0][3] is :\",x[0][3])\n",
    "print(\"x[1][1] is :\",x[1][1])"
   ]
  },
  {
   "cell_type": "code",
   "execution_count": 55,
   "metadata": {},
   "outputs": [
    {
     "ename": "SyntaxError",
     "evalue": "invalid syntax (2645304400.py, line 1)",
     "output_type": "error",
     "traceback": [
      "\u001b[1;36m  Cell \u001b[1;32mIn[55], line 1\u001b[1;36m\u001b[0m\n\u001b[1;33m    15. Write a Python program to access tuple elements using negative index.\u001b[0m\n\u001b[1;37m        ^\u001b[0m\n\u001b[1;31mSyntaxError\u001b[0m\u001b[1;31m:\u001b[0m invalid syntax\n"
     ]
    }
   ],
   "source": [
    "15. Write a Python program to access tuple elements using negative index.\n",
    "    Data:\n",
    "        x = ('B','a','s','k','a','r')\n",
    "    Expected Output:\n",
    "        x[-1] is : r\n",
    "        x[-6] is : B\n",
    "        "
   ]
  },
  {
   "cell_type": "code",
   "execution_count": 59,
   "metadata": {},
   "outputs": [
    {
     "name": "stdout",
     "output_type": "stream",
     "text": [
      "x[-1] is : r\n",
      "x[-6] is : B\n"
     ]
    }
   ],
   "source": [
    "x = ('B','a','s','k','a','r')\n",
    "print(\"x[-1] is :\",x[-1])\n",
    "print(\"x[-6] is :\",x[-6])"
   ]
  },
  {
   "cell_type": "code",
   "execution_count": 6,
   "metadata": {},
   "outputs": [],
   "source": [
    "16. Write a Python program to use + and * operators in a tuple and print the results in tuple.\n",
    "    Data:\n",
    "        x : (1, 12, 123)\n",
    "        y : (4, 9)    \n",
    "    Expected Output:\n",
    "        z = x + y : (1, 12, 123, 4, 9)\n",
    "        z * 3 : (1, 12, 123, 4, 9, 1, 12, 123, 4, 9, 1, 12, 123, 4, 9)\n",
    "        \n",
    "        \n",
    "        \n",
    "        "
   ]
  },
  {
   "cell_type": "code",
   "execution_count": 62,
   "metadata": {},
   "outputs": [
    {
     "name": "stdout",
     "output_type": "stream",
     "text": [
      "(1, 12, 123, 4, 9)\n",
      "(1, 12, 123, 4, 9, 1, 12, 123, 4, 9, 1, 12, 123, 4, 9)\n"
     ]
    }
   ],
   "source": [
    "x=(1, 12, 123)\n",
    "y=(4, 9)\n",
    "z = tuple(x+y)\n",
    "print(z)\n",
    "print(z*3)"
   ]
  },
  {
   "cell_type": "code",
   "execution_count": 7,
   "metadata": {},
   "outputs": [],
   "source": [
    "17. Write a Python program to print each elements of a tuple using for loop.\n",
    "    Data:\n",
    "        Tuple x = ('boss','sai')\n",
    "    Expected Output:\n",
    "        Hello boss\n",
    "        Hello bala\n",
    "        \n",
    "        "
   ]
  },
  {
   "cell_type": "code",
   "execution_count": 65,
   "metadata": {},
   "outputs": [
    {
     "name": "stdout",
     "output_type": "stream",
     "text": [
      "boss\n",
      "sai\n"
     ]
    }
   ],
   "source": [
    "x = ('boss','sai')\n",
    "for i in x:\n",
    "    print(i)"
   ]
  },
  {
   "cell_type": "code",
   "execution_count": 8,
   "metadata": {},
   "outputs": [],
   "source": [
    "18. Write a Python program to print the count of 'p' and the index of 'l' from the given tuple using tuple methods.\n",
    "    Data: \n",
    "        x = ('a', 'p', 'p', 'l', 'e')\n",
    "    Expected Output:\n",
    "        Count of p is : 2\n",
    "        Index of l is : 3\n",
    "        \n",
    "        "
   ]
  },
  {
   "cell_type": "code",
   "execution_count": 68,
   "metadata": {},
   "outputs": [
    {
     "name": "stdout",
     "output_type": "stream",
     "text": [
      "count of p is: 2\n",
      "index of l is: 3\n"
     ]
    }
   ],
   "source": [
    "x = ('a', 'p', 'p', 'l', 'e')\n",
    "print(\"count of p is:\", x.count('p'))\n",
    "print(\"index of l is:\", x.index('l'))"
   ]
  },
  {
   "cell_type": "code",
   "execution_count": 9,
   "metadata": {},
   "outputs": [],
   "source": [
    "19. Write a Python program to update an element of a given tuple from 7 to 77.\n",
    "    Data:\n",
    "        x = (1, [9, 8, 7], \"boss\")\n",
    "    Expected Output:\n",
    "        (1, [9, 8, 7], 'boss')\n",
    "        (1, [9, 8, 77], 'boss')\n",
    "        \n",
    "        \n",
    "        \n",
    "        "
   ]
  },
  {
   "cell_type": "code",
   "execution_count": 89,
   "metadata": {},
   "outputs": [
    {
     "name": "stdout",
     "output_type": "stream",
     "text": [
      "(1, [9, 8, 7], 'boss')\n",
      "list y: [1, [9, 8, 77], 'boss']\n",
      "tuple x : (1, [9, 8, 77], 'boss')\n"
     ]
    }
   ],
   "source": [
    "x = (1, [9, 8, 7], \"boss\")\n",
    "print(x)\n",
    "y=list(x)\n",
    "y[1].remove(7)\n",
    "y[1].insert(2,77)\n",
    "print(\"list y:\",y)\n",
    "print(\"tuple x :\",x)"
   ]
  },
  {
   "cell_type": "code",
   "execution_count": null,
   "metadata": {},
   "outputs": [],
   "source": [
    "20. Write a Python program to slice a tuple.\n",
    "    Data: \n",
    "        x = (11, 22, 33, 44, 55, 66, 77, 88, 99)\n",
    "    Expected Output:\n",
    "        (11, 22, 33, 44, 55, 66, 77, 88, 99)\n",
    "        (33, 44, 55)\n",
    "        (11, 22, 33, 44)\n",
    "        (55, 66, 77, 88, 99)\n",
    "        (55, 66, 77, 88)\n",
    "        (11, 22, 33, 44, 55, 66, 77, 88, 99)\n",
    "        \n",
    "        \n",
    "        \n",
    "        "
   ]
  },
  {
   "cell_type": "code",
   "execution_count": 100,
   "metadata": {},
   "outputs": [
    {
     "name": "stdout",
     "output_type": "stream",
     "text": [
      "(11, 22, 33, 44, 55, 66, 77, 88, 99)\n",
      "(33, 44, 55)\n",
      "(11, 22, 33, 44)\n",
      "(55, 66, 77, 88, 99)\n",
      "(55, 66, 77, 88)\n",
      "(11, 22, 33, 44, 55, 66, 77, 88, 99)\n"
     ]
    }
   ],
   "source": [
    "x = (11, 22, 33, 44, 55, 66, 77, 88, 99)\n",
    "print(x)\n",
    "print(x[2:5])\n",
    "print(x[0:4])\n",
    "print(x[4:9])\n",
    "print(x[4:8])\n",
    "print(x[0:9])"
   ]
  }
 ],
 "metadata": {
  "kernelspec": {
   "display_name": "Python 3 (ipykernel)",
   "language": "python",
   "name": "python3"
  },
  "language_info": {
   "codemirror_mode": {
    "name": "ipython",
    "version": 3
   },
   "file_extension": ".py",
   "mimetype": "text/x-python",
   "name": "python",
   "nbconvert_exporter": "python",
   "pygments_lexer": "ipython3",
   "version": "3.10.9"
  }
 },
 "nbformat": 4,
 "nbformat_minor": 4
}

{
 "cells": [
  {
   "cell_type": "markdown",
   "metadata": {},
   "source": [
    "# Nested Tuple Hard Questions"
   ]
  },
  {
   "cell_type": "code",
   "execution_count": null,
   "metadata": {},
   "outputs": [],
   "source": [
    "1. Write a Python program to calculate the average value of the numbers in a given tuple of tuples.\n",
    "    Data:\n",
    "        Original Tuple:\n",
    "        ((10, 10, 10, 12), (30, 45, 56, 45), (81, 80, 39, 32), (1, 2, 3, 4))\n",
    "        ((1, 1, -5), (30, -15, 56), (81, -60, -39), (-10, 2, 3))\n",
    "    Expected Output:\n",
    "        Average value of the numbers of the said tuple of tuples:\n",
    "        [30.5, 34.25, 27.0, 23.25]\n",
    "        Average value of the numbers of the said tuple of tuples:\n",
    "        [25.5, -18.0, 3.75]\n",
    "        \n",
    "        \n",
    "        \n",
    "        "
   ]
  },
  {
   "cell_type": "code",
   "execution_count": null,
   "metadata": {},
   "outputs": [],
   "source": [
    "2. Write a Python program to check if a specified element present in a given tuple of tuples. \n",
    "    Data:\n",
    "        (('Red', 'White', 'Blue'), ('Green', 'Pink', 'Purple'), ('Orange', 'Yellow', 'Lime'))\n",
    "    Expected Output:\n",
    "        Check if White presenet in said tuple of tuples!\n",
    "        True\n",
    "        Check if White presenet in said tuple of tuples!\n",
    "        True\n",
    "        Check if Olive presenet in said tuple of tuples!\n",
    "        False\n",
    "        \n",
    "        \n",
    "        \n",
    "        "
   ]
  },
  {
   "cell_type": "code",
   "execution_count": null,
   "metadata": {},
   "outputs": [],
   "source": [
    "3. Write a Python program to compute the sum of all the elements of each tuple in a list.\n",
    "    Data:\n",
    "        [(1, 2), (2, 3), (3, 4)]\n",
    "        [(1, 2, 6), (2, 3, -6), (3, 4), (2, 2, 2, 2)]\n",
    "    Expected Output:\n",
    "        Sum of all the elements of each tuple stored inside the said list of tuples:\n",
    "        [3, 5, 7]\n",
    "        [9, -1, 7, 8]\n",
    "        \n",
    "        \n",
    "        \n",
    "        "
   ]
  },
  {
   "cell_type": "code",
   "execution_count": null,
   "metadata": {},
   "outputs": [],
   "source": [
    "4. Write a Python program to convert a nested tuple into a dictionary.\n",
    "    Data:\n",
    "        x = ((\"boss\", 10), (\"suresh\", 12), (\"anand\", 14), (\"siva\", 20), (\"bala\", 25), (\"karthi\", 30))\n",
    "    Expected Output:\n",
    "        {10: 'boss', 12: 'suresh', 14: 'anand', 20: 'siva', 25: 'bala', 30: 'karthi'}\n",
    "        \n",
    "        \n",
    "        \n",
    "        \n",
    "        "
   ]
  },
  {
   "cell_type": "code",
   "execution_count": null,
   "metadata": {},
   "outputs": [],
   "source": [
    "5. Write a Python program to filter only those tuples which has all characters in uppercase from the given nested tuple.\n",
    "    Data:\n",
    "        [('GFG', 'IS', 'BEST'), ('GFg', 'AVERAGE'), ('GFG',), ('Gfg', 'CS')]\n",
    "    Expected Output:\n",
    "        [('GFG', 'IS', 'BEST'), ('GFG',)]\n",
    "        \n",
    "        \n",
    "        \n",
    "        "
   ]
  },
  {
   "cell_type": "code",
   "execution_count": null,
   "metadata": {},
   "outputs": [],
   "source": [
    "6. Write a Python program to compare the given two nested tuples and print the maximum number from each tuple using isinstance().\n",
    "    Data:\n",
    "        ((1, 3), (4, 5), (2, 9), (1, 10)) \n",
    "        ((6, 7), (3, 9), (1, 1), (7, 3)) \n",
    "    Expected Output:\n",
    "        ((6, 7), (4, 9), (2, 9), (7, 10))\n",
    "        \n",
    "        \n",
    "        \n",
    "        "
   ]
  },
  {
   "cell_type": "code",
   "execution_count": null,
   "metadata": {},
   "outputs": [],
   "source": [
    "7. Write a Python program to compare the given two nested tuples and print the maximum number from each tuple using zip() and max().\n",
    "    Data:\n",
    "        ((13, 32), (33, 24), (53, 64), (14, 10)) \n",
    "        ((62, 17), (33, 94), (13, 41), (74, 43))\n",
    "    Expected Output:\n",
    "        ((62, 32), (33, 94), (53, 64), (74, 43))\n",
    "        \n",
    "        \n",
    "        \n",
    "        "
   ]
  },
  {
   "cell_type": "code",
   "execution_count": null,
   "metadata": {},
   "outputs": [],
   "source": [
    "8. Write a Python program to combine tuples in a list nested tuples using product().\n",
    "    Data:\n",
    "        [([1, 2, 3], 'gfg'), ([5, 4, 3], 'cs')]\n",
    "    Expected Output:\n",
    "        [(1, 'gfg'), (2, 'gfg'), (3, 'gfg'), (5, 'cs'), (4, 'cs'), (3, 'cs')]\n",
    "        \n",
    "        \n",
    "        \n",
    "        "
   ]
  },
  {
   "cell_type": "code",
   "execution_count": null,
   "metadata": {},
   "outputs": [],
   "source": [
    "9. Write a Python program to merge the given list of nested tuples into another list of nested tuples.\n",
    "    Data:\n",
    "        x = [('a', 0), ('b', 0), ('c', 0)] \n",
    "        y = [('a', 5), ('c', 3)]\n",
    "    Expected Output:\n",
    "        [('a', 5), ('b', 0), ('c', 3)]\n",
    "        \n",
    "        \n",
    "        \n",
    "        "
   ]
  },
  {
   "cell_type": "code",
   "execution_count": null,
   "metadata": {},
   "outputs": [],
   "source": [
    "10. Write a python program to unzip a list of nested tuples using zip() and * operator.\n",
    "    Data:\n",
    "        [('baskar', 1), ('suresh', 2), ('is', 3), ('Placed', 4)] \n",
    "    Expected Output:\n",
    "        [('baskar', 'suresh', 'is', 'Placed'), (1, 2, 3, 4)]\n",
    "        \n",
    "        \n",
    "        \n",
    "        "
   ]
  }
 ],
 "metadata": {
  "kernelspec": {
   "display_name": "Python 3",
   "language": "python",
   "name": "python3"
  },
  "language_info": {
   "codemirror_mode": {
    "name": "ipython",
    "version": 3
   },
   "file_extension": ".py",
   "mimetype": "text/x-python",
   "name": "python",
   "nbconvert_exporter": "python",
   "pygments_lexer": "ipython3",
   "version": "3.8.5"
  }
 },
 "nbformat": 4,
 "nbformat_minor": 4
}

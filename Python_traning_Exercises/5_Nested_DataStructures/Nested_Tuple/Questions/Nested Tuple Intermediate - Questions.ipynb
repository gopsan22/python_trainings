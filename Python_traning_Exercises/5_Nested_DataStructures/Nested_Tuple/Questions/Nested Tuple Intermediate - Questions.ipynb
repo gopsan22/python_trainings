{
 "cells": [
  {
   "cell_type": "markdown",
   "metadata": {},
   "source": [
    "# Nested Tuple Intermediate Questions"
   ]
  },
  {
   "cell_type": "code",
   "execution_count": null,
   "metadata": {},
   "outputs": [],
   "source": [
    "1. Write a Python program to sort a nested tuple by its float element. \n",
    "    Data: \n",
    "        [('tuple1', '12.20'), ('tuple2', '15.10'), ('tuple3', '24.5')]\n",
    "    Expected Output: \n",
    "        [('tuple3', '24.5'), ('tuple2', '15.10'), ('tuple1', '12.20')]\n",
    "        \n",
    "        \n",
    "        \n",
    "        "
   ]
  },
  {
   "cell_type": "code",
   "execution_count": null,
   "metadata": {},
   "outputs": [],
   "source": [
    "2. Write a Python program to remove an empty tuple(s) from a list of nested tuples. \n",
    "    Data: \n",
    "        [(), (), ('',), ('a', 'b'), ('a', 'b', 'c'), ('d')]\n",
    "    Expected output: \n",
    "        [('',), ('a', 'b'), ('a', 'b', 'c'), 'd']\n",
    "\n",
    "        \n",
    "        \n",
    "        \n",
    "        "
   ]
  },
  {
   "cell_type": "code",
   "execution_count": null,
   "metadata": {},
   "outputs": [],
   "source": [
    "3. Write a Python program to count the elements in a list until an element is a tuple.\n",
    "    Data:\n",
    "        [10,20,30,(10,20),40]\n",
    "    Expected output:\n",
    "        3\n",
    "        \n",
    "        \n",
    "        \n",
    "        "
   ]
  },
  {
   "cell_type": "code",
   "execution_count": null,
   "metadata": {},
   "outputs": [],
   "source": [
    "4. Write a Python program to convert a nested tuple of string values into a nested tuple of integer values.\n",
    "    Data:\n",
    "        (('333', '33'), ('1416', '55'))\n",
    "    Expected output:\n",
    "        ((333, 33), (1416, 55))\n",
    "        \n",
    "        \n",
    "        \n",
    "        "
   ]
  },
  {
   "cell_type": "code",
   "execution_count": null,
   "metadata": {},
   "outputs": [],
   "source": [
    "5. Write a Python program to concat the given two tuples into a nested tuple.\n",
    "    Data:\n",
    "        test1 = (1, 2), \n",
    "        test2 = (3, 4),\n",
    "    Expected output:\n",
    "        The original tuple 1 : ((1, 2),)\n",
    "        The original tuple 2 : ((3, 4),)\n",
    "        Tuples after Concatenating : ((1, 2), (3, 4))\n",
    "            \n",
    "            \n",
    "            \n",
    "            "
   ]
  },
  {
   "cell_type": "code",
   "execution_count": null,
   "metadata": {},
   "outputs": [],
   "source": [
    "6. Write a Python program to remove duplicate tuples from the given list of tuples.\n",
    "    Data:\n",
    "        lst = [(1, 2), (5, 7), (3, 6), (1, 2)] \n",
    "    Expected output:\n",
    "        [(1, 2), (5, 7), (3, 6)]\n",
    "        \n",
    "        \n",
    "        \n",
    "        "
   ]
  },
  {
   "cell_type": "code",
   "execution_count": null,
   "metadata": {},
   "outputs": [],
   "source": [
    "7. Write a Python program to remove 'None' from the given list of tuples.\n",
    "    Data:\n",
    "        x = [(None, 2), (None, None), (3, 4), (12, 3), (None, )] \\\n",
    "    Expected output: \n",
    "        The original list is : [(None, 2), (None, None), (3, 4), (12, 3), (None,)]\n",
    "        Removed None Tuples : [(None, 2), (3, 4), (12, 3)]\n",
    "            \n",
    "            \n",
    "            \n",
    "            "
   ]
  },
  {
   "cell_type": "code",
   "execution_count": null,
   "metadata": {},
   "outputs": [],
   "source": [
    "8. Write a Python program to find the tuples which contains the given element from a list of tuples.\n",
    "    Data:\n",
    "        [(14, 3),(23, 41),(33, 62),(1, 3),(3, 3)] \n",
    "    Expected output:\n",
    "        [(14, 3), (1, 3), (3, 3)]\n",
    "        \n",
    "        \n",
    "        \n",
    "        "
   ]
  },
  {
   "cell_type": "code",
   "execution_count": null,
   "metadata": {},
   "outputs": [],
   "source": [
    "9. Write a Python program to convert string values from a given list into a list of tuples, using map() and eval() functions.\n",
    "    Data:\n",
    "        [\"('Boss', 3)\", \"('Suresh', 6)\", \"('Dinesh', 9)\"]\n",
    "    Expected output: \n",
    "        The original list is : [\"('Boss', 3)\", \"('Suresh', 6)\", \"('Dinesh', 9)\"]\n",
    "        The list tuple after conversion : [('Boss', 3), ('Suresh', 6), ('Dinesh', 9)]\n",
    "            \n",
    "            \n",
    "            \n",
    "            "
   ]
  },
  {
   "cell_type": "code",
   "execution_count": null,
   "metadata": {},
   "outputs": [],
   "source": [
    "10. Write a Python program to print only those tuples which has all positive elements in it.\n",
    "    Data:\n",
    "        [(4, 5, 9), (-3, 2, 3), (-3, 5, 6), (4, 6)]\n",
    "    Expected output:\n",
    "        The original list is : [(4, 5, 9), (-3, 2, 3), (-3, 5, 6), (4, 6)]\n",
    "        Positive elements Tuples : [(4, 5, 9), (4, 6)]\n",
    "            \n",
    "            \n",
    "            \n",
    "            "
   ]
  }
 ],
 "metadata": {
  "kernelspec": {
   "display_name": "Python 3",
   "language": "python",
   "name": "python3"
  },
  "language_info": {
   "codemirror_mode": {
    "name": "ipython",
    "version": 3
   },
   "file_extension": ".py",
   "mimetype": "text/x-python",
   "name": "python",
   "nbconvert_exporter": "python",
   "pygments_lexer": "ipython3",
   "version": "3.8.5"
  }
 },
 "nbformat": 4,
 "nbformat_minor": 4
}

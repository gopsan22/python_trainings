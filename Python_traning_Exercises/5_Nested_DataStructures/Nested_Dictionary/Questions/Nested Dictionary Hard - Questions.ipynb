{
 "cells": [
  {
   "cell_type": "markdown",
   "metadata": {},
   "source": [
    "# Nested Dictionary Hard Questions"
   ]
  },
  {
   "cell_type": "code",
   "execution_count": null,
   "metadata": {},
   "outputs": [],
   "source": [
    "1. Write a Python program to remove duplicates from a given nested dictionary.\n",
    "    Data:\n",
    "        student = {'id1': \n",
    "   {'name': ['Boss'], \n",
    "    'class': ['V'], \n",
    "    'subject_integration': ['english, math, science']\n",
    "   },\n",
    " 'id2': \n",
    "  {'name': ['Siva'], \n",
    "    'class': ['V'], \n",
    "    'subject_integration': ['english, math, science']\n",
    "   },\n",
    " 'id3': \n",
    "    {'name': ['Boss'], \n",
    "    'class': ['V'], \n",
    "    'subject_integration': ['english, math, science']\n",
    "   },\n",
    " 'id4': \n",
    "   {'name': ['Surya'], \n",
    "    'class': ['V'], \n",
    "    'subject_integration': ['english, math, science']\n",
    "   },\n",
    "}\n",
    "    Expected Output:\n",
    "        {'id1': {'name': ['Boss'], 'class': ['V'], 'subject_integration': ['english, math, science']}, \n",
    "         'id2': {'name': ['Siva'], 'class': ['V'], 'subject_integration': ['english, math, science']}, \n",
    "         'id4': {'name': ['Surya'], 'class': ['V'], 'subject_integration': ['english, math, science']}}\n",
    "        \n",
    "        \n",
    "        \n",
    "        "
   ]
  },
  {
   "cell_type": "code",
   "execution_count": null,
   "metadata": {},
   "outputs": [],
   "source": [
    "2. Write a Python program to store a given nested dictionary in a json file.\n",
    "    Data:\n",
    "        Original dictionary:\n",
    "        d = {'students': [{'firstName': 'Boss', 'lastName': 'Roysden'}, \n",
    "                  {'firstName': 'Kumar', 'lastName': 'Friedland'}, \n",
    "                  {'firstName': 'Arul ', 'lastName': 'Wilkins'}], \n",
    "             'teachers': [{'firstName': 'Suresh', 'lastName': 'Calico'},\n",
    "                  {'firstName': 'Dinesh', 'lastName': 'Agtarap'}]}\n",
    "    Expected Output:  \n",
    "        Json file to dictionary:\n",
    "        {'students': [{'firstName': 'Boss', 'lastName': 'Roysden'}, {'firstName': 'Kumar', 'lastName': 'Friedland'}, \n",
    "        {'firstName': 'Arul ', 'lastName': 'Wilkins'}], 'teachers': [{'firstName': 'Suresh', 'lastName': 'Calico'}, \n",
    "        {'firstName': 'Dinesh', 'lastName': 'Agtarap'}]}\n",
    "        \n",
    "        \n",
    "        \n",
    "        "
   ]
  },
  {
   "cell_type": "code",
   "execution_count": null,
   "metadata": {},
   "outputs": [],
   "source": [
    "3. Write a python program to iterate over all values in a nested dictionary using nested for loop.\n",
    "    Data:\n",
    "        D = {'id1': \n",
    "   {'name': ['Boss'], \n",
    "    'class': ['V'], \n",
    "    'subject_integration': ['english, math, science']\n",
    "   },\n",
    " 'id2': \n",
    "  {'name': ['Siva'], \n",
    "    'class': ['V'], \n",
    "    'subject_integration': ['english, math, science']\n",
    "   },\n",
    " 'id3': \n",
    "    {'name': ['Boss'], \n",
    "    'class': ['V'], \n",
    "    'subject_integration': ['english, math, science']\n",
    "   },\n",
    " 'id4': \n",
    "   {'name': ['Surya'], \n",
    "    'class': ['V'], \n",
    "    'subject_integration': ['english, math, science']\n",
    "   },\n",
    "}\n",
    "        Expected Output:\n",
    "            Employee ID: id1\n",
    "            name: ['Boss']\n",
    "            class: ['V']\n",
    "            subject_integration: ['english, math, science']\n",
    "\n",
    "            Employee ID: id2\n",
    "            name: ['Siva']\n",
    "            class: ['V']\n",
    "            subject_integration: ['english, math, science']\n",
    "\n",
    "            Employee ID: id3\n",
    "            name: ['Boss']\n",
    "            class: ['V']\n",
    "            subject_integration: ['english, math, science']\n",
    "\n",
    "            Employee ID: id4\n",
    "            name: ['Surya']\n",
    "            class: ['V']\n",
    "            subject_integration: ['english, math, science']\n",
    "                \n",
    "                \n",
    "                \n",
    "                "
   ]
  },
  {
   "cell_type": "code",
   "execution_count": null,
   "metadata": {},
   "outputs": [],
   "source": [
    "4. Write a Python program to sort a list of nested dictionaries.\n",
    "    Data:\n",
    "        D = [{'key': {'subkey': 1}}, {'key': {'subkey': 10}}, {'key': {'subkey': 5}}]\n",
    "    Expected Output:\n",
    "        [{'key': {'subkey': 10}}, {'key': {'subkey': 5}}, {'key': {'subkey': 1}}]\n",
    "        \n",
    "        \n",
    "        \n",
    "        "
   ]
  },
  {
   "cell_type": "code",
   "execution_count": null,
   "metadata": {},
   "outputs": [],
   "source": [
    "5. Write a Python Program to convert a nested dictionary into a flattened dictionary.\n",
    "    Data:\n",
    "        D = {  'x' : 1, 'y' : { 'z': 3, 'd': 4}}\n",
    "    Expected Output:\n",
    "        {'x': 1, 'y': 2, 'z': 3, 'd': 4}\n",
    "        \n",
    "        \n",
    "        \n",
    "        "
   ]
  },
  {
   "cell_type": "code",
   "execution_count": null,
   "metadata": {},
   "outputs": [],
   "source": [
    "6. Write a Python Program to find the sum of values whose key is 'sharpness' in a given nested dictionary.\n",
    "    Data:\n",
    "        weapons = {'': None, 'sword': { 'steel': 1234, \n",
    "                                'sharpness': 344, \n",
    "                                'age': 24,}, \n",
    "                                  \n",
    "                     'arrow': {'steel': 1200, \n",
    "                               'sharpness': 305, \n",
    "                               'age': 12,}} \n",
    "    Expected Output:\n",
    "        649\n",
    "        \n",
    "        \n",
    "        \n",
    "                                 "
   ]
  },
  {
   "cell_type": "code",
   "execution_count": null,
   "metadata": {},
   "outputs": [],
   "source": [
    "7. Write a Python function to remove the values of a key 'CS' from the given Nested Dictionary Using isinstance().\n",
    "   Data:\n",
    "        The original dictionary : \n",
    "        {'gfg' : {'best' : 4, 'good' : 5}, 'is' : {'better' : 6, 'educational' : 4}, 'CS' : {'priceless' : 6}}\n",
    "    Expected Output:\n",
    "        Dictionary after removal : \n",
    "        {'gfg': {'best': 4, 'good': 5}, 'is': {'educational': 4}, 'CS': {}}\n",
    "        \n",
    "        \n",
    "        \n",
    "        "
   ]
  },
  {
   "cell_type": "code",
   "execution_count": null,
   "metadata": {},
   "outputs": [],
   "source": [
    "''' 8. Write a Python Program to demonstrate working ofUnnest single Key Nested Dictionary List Using loop + items().\n",
    "    Data:\n",
    "        The original dictionary : \n",
    "        [{'gfg' : {'data' : 1}}, {'is' : {'data' : 5}}, {'best' : {'data' : 4}}]\n",
    "    Expected Output:\n",
    "        The constructed Dictionary list : \n",
    "        {'gfg': 1, 'is': 5, 'best': 4} '''\n",
    "        \n",
    "# didnt understand the question    \n",
    "        \n",
    "        "
   ]
  },
  {
   "cell_type": "code",
   "execution_count": null,
   "metadata": {},
   "outputs": [],
   "source": [
    "9. Write a Python Program to convert the given lists into a nested dictionary.\n",
    "    Data:\n",
    "        test_list1 = [\"Boss\", 'Siva', 'best'] \n",
    "        test_list2 = ['ratings', 'price', 'score'] \n",
    "        test_list3 = [5, 6, 7]\n",
    "    Expected Output:\n",
    "        The original list 1 is : ['Boss', 'Siva', 'best']\n",
    "        The original list 2 is : ['ratings', 'price', 'score']\n",
    "        The original list 3 is : [5, 6, 7]\n",
    "        The constructed dictionary : [{'Boss': {'ratings': 5}}, {'Siva': {'price': 6}}, {'best': {'score': 7}}]\n",
    "            \n",
    "            \n",
    "            \n",
    "            "
   ]
  },
  {
   "cell_type": "code",
   "execution_count": null,
   "metadata": {},
   "outputs": [],
   "source": [
    "''' 10. Write a Python Program to demonstrate working of Convert Nested dictionary to Mapped Tuple \n",
    "    Using list comprehension + generator expression.\n",
    "    Data:\n",
    "        {'gfg' : {'x' : 5, 'y' : 6}, 'is' : {'x' : 1, 'y' : 4}, 'best' : {'x' : 8, 'y' : 3}}\n",
    "    Expected Output:\n",
    "        The grouped dictionary : [('x', (5, 1, 8)), ('y', (6, 4, 3))] '''\n",
    "            \n",
    "            \n",
    "#didnt understand the question\n",
    "            "
   ]
  },
  {
   "cell_type": "code",
   "execution_count": null,
   "metadata": {},
   "outputs": [],
   "source": [
    "#Doubts #8 #10"
   ]
  }
 ],
 "metadata": {
  "kernelspec": {
   "display_name": "Python 3",
   "language": "python",
   "name": "python3"
  },
  "language_info": {
   "codemirror_mode": {
    "name": "ipython",
    "version": 3
   },
   "file_extension": ".py",
   "mimetype": "text/x-python",
   "name": "python",
   "nbconvert_exporter": "python",
   "pygments_lexer": "ipython3",
   "version": "3.8.5"
  }
 },
 "nbformat": 4,
 "nbformat_minor": 4
}

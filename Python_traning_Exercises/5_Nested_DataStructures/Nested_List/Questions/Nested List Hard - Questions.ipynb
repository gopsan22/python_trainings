{
 "cells": [
  {
   "cell_type": "markdown",
   "metadata": {},
   "source": [
    "# Nested List Hard Questions"
   ]
  },
  {
   "cell_type": "code",
   "execution_count": null,
   "metadata": {},
   "outputs": [],
   "source": [
    "1. Write a Python program to flatten a given nested list.\n",
    "    Data:\n",
    "        [0, 10, [20, 30], 40, 50, [60, 70, 80], [90, 100, 110, 120]]\n",
    "    Expected Output:\n",
    "        [0, 10, 20, 30, 40, 50, 60, 70, 80, 90, 100, 110, 120]\n",
    "        \n",
    "        \n",
    "        \n",
    "        "
   ]
  },
  {
   "cell_type": "code",
   "execution_count": null,
   "metadata": {},
   "outputs": [],
   "source": [
    "2. Write a Python program to pack consecutive duplicates of a given list elements into sublists. \n",
    "    Data:\n",
    "        Original list:\n",
    "        [0, 0, 1, 2, 3, 4, 4, 5, 6, 6, 6, 7, 8, 9, 4, 4]\n",
    "    Expected Output:\n",
    "        After packing consecutive duplicates of the said list elements into sublists:\n",
    "        [[0, 0], [1], [2], [3], [4, 4], [5], [6, 6, 6], [7], [8], [9], [4, 4]]\n",
    "        \n",
    "        \n",
    "        \n",
    "        "
   ]
  },
  {
   "cell_type": "code",
   "execution_count": null,
   "metadata": {},
   "outputs": [],
   "source": [
    "3. Write a Python program to create a list reflecting the run-length encoding from a given list of integers or \n",
    "   a given list of characters.\n",
    "    Data:\n",
    "        [1, 1, 2, 3, 4, 4.3, 5, 1]\n",
    "        \"aidinasaur\"\n",
    "    Expected Output:\n",
    "        List reflecting the run-length encoding from the said list:\n",
    "        [[2, 1], [1, 2], [1, 3], [1, 4], [1, 4.3], [1, 5], [1, 1]]\n",
    "        List reflecting the run-length encoding from the said string:\n",
    "        [[1, 'a'], [1, 'i'], [1, 'd'], [1, 'i'], [1, 'n'], [1, 'a'], [1, 's'], [1, 'a'], [1, 'u'], [1, 'r']]\n",
    "        \n",
    "        \n",
    "        \n",
    "        "
   ]
  },
  {
   "cell_type": "code",
   "execution_count": null,
   "metadata": {},
   "outputs": [],
   "source": [
    "4. Write a Python program to create a list reflecting the modified run-length encoding from a given list of integers or \n",
    "   a given list of characters. \n",
    "    Data:\n",
    "        [1, 1, 2, 3, 4, 4, 5, 1]\n",
    "        \"aabcddddadnss\"\n",
    "    Expected Output:\n",
    "        List reflecting the modified run-length encoding from the said list:\n",
    "        [[2, 1], 2, 3, [2, 4], 5, 1]\n",
    "        List reflecting the modified run-length encoding from the said string:\n",
    "        [[2, 'a'], 'b', 'c', [4, 'd'], 'a', 'd', 'n', [2, 's']]\n",
    "        \n",
    "        \n",
    "        \n",
    "        "
   ]
  },
  {
   "cell_type": "code",
   "execution_count": null,
   "metadata": {},
   "outputs": [],
   "source": [
    "5. Write a Python program to decode a run-length encoding for a given list. \n",
    "    Data:\n",
    "        Original encoded list:\n",
    "        [[1, 2], 3, 4, [5, 6], 7, 8]\n",
    "    Expected Output:\n",
    "        Decode a run-length encoded said list:\n",
    "        [2, 3, 4, 6, 6, 6, 6, 6, 7, 8]\n",
    "        \n",
    "        \n",
    "        \n"
   ]
  },
  {
   "cell_type": "code",
   "execution_count": null,
   "metadata": {},
   "outputs": [],
   "source": [
    "6. Write a Python program to split a given list into two parts where the length of the first part of the list is given. \n",
    "    Data:\n",
    "        Original list:[1, 1, 2, 3, 4, 4, 5, 1]\n",
    "    Expected Output:\n",
    "        Length of the first part of the list: 3\n",
    "        Splited the said list into two parts:\n",
    "        ([1, 1, 2], [3, 4, 4, 5, 1])\n",
    "        \n",
    "        \n",
    "        \n",
    "        "
   ]
  },
  {
   "cell_type": "code",
   "execution_count": null,
   "metadata": {},
   "outputs": [],
   "source": [
    "7. Write a Python program to count number of lists in a given list of lists.\n",
    "    Data:\n",
    "        Original list:\n",
    "        [[1, 3], [5, 7], [9, 11], [13, 15, 17]]\n",
    "        [[2, 4], [[6, 8], [4, 5, 8]], [10, 12, 14]]\n",
    "    Expected Output:\n",
    "        Number of lists in said list of lists:\n",
    "        4\n",
    "        3\n",
    "        \n",
    "        \n",
    "        \n",
    "        "
   ]
  },
  {
   "cell_type": "code",
   "execution_count": null,
   "metadata": {},
   "outputs": [],
   "source": [
    "8. Write a Python program to find the list with maximum and minimum length.\n",
    "    Data:\n",
    "        Original list:\n",
    "        [[0], [1, 3], [5, 7], [9, 11], [13, 15, 17]]\n",
    "        [[0], [1, 3], [5, 7], [9, 11], [3, 5, 7]]\n",
    "        [[12], [1, 3], [1, 34, 5, 7], [9, 11], [3, 5, 7]]\n",
    "    Expected Output:\n",
    "        Original list:[[0], [1, 3], [5, 7], [9, 11], [13, 15, 17]]\n",
    "        List with maximum length of lists:\n",
    "        (3, [13, 15, 17])\n",
    "        List with minimum length of lists:\n",
    "        (1, [0])\n",
    "        Original list:[[0], [1, 3], [5, 7], [9, 11], [3, 5, 7]]\n",
    "        List with maximum length of lists:\n",
    "        (3, [3, 5, 7])\n",
    "        List with minimum length of lists:\n",
    "        (1, [0])\n",
    "        Original list:[[12], [1, 3], [1, 34, 5, 7], [9, 11], [3, 5, 7]]\n",
    "        List with maximum length of lists:\n",
    "        (4, [1, 34, 5, 7])\n",
    "        List with minimum length of lists:\n",
    "        (1, [12])\n",
    "        \n",
    "        \n",
    "        \n",
    "        "
   ]
  },
  {
   "cell_type": "code",
   "execution_count": null,
   "metadata": {},
   "outputs": [],
   "source": [
    "9. Write a Python program to count the number of sublists contain a particular element.\n",
    "    Data:\n",
    "        Original list:\n",
    "        [[1, 3], [5, 7], [1, 11], [1, 15, 7]]\n",
    "        [['A', 'B'], ['A', 'C'], ['A', 'D', 'E'], ['B', 'C', 'D']]\n",
    "    Expected Output:\n",
    "        Original list:[[1, 3], [5, 7], [1, 11], [1, 15, 7]]\n",
    "        Count 1 in the said list:\n",
    "        3\n",
    "        Count 7 in the said list:\n",
    "        2\n",
    "        Original list:[['A', 'B'], ['A', 'C'], ['A', 'D', 'E'], ['B', 'C', 'D']]\n",
    "        Count 'A' in the said list:\n",
    "        3\n",
    "        Count 'E' in the said list:\n",
    "        1\n",
    "        \n",
    "        \n",
    "        \n",
    "        "
   ]
  },
  {
   "cell_type": "code",
   "execution_count": null,
   "metadata": {},
   "outputs": [],
   "source": [
    "10. Write a Python program to remove sublists from a given list of lists, which contains an element outside a given range.\n",
    "    Data:\n",
    "        Original list:\n",
    "        [[2], [0], [1, 2, 3], [0, 1, 2, 3, 6, 7], [9, 11], [13, 14, 15, 17]]\n",
    "    Expected Output:\n",
    "        Original list:[[2], [0], [1, 2, 3], [0, 1, 2, 3, 6, 7], [9, 11], [13, 14, 15, 17]]\n",
    "        After removing sublists from a given list of lists, which contains an element outside the given range:\n",
    "        [[13, 14, 15, 17]]\n",
    "        \n",
    "        \n",
    "        \n",
    "        "
   ]
  },
  {
   "cell_type": "code",
   "execution_count": null,
   "metadata": {},
   "outputs": [],
   "source": [
    "11. Write a Python program to remove a specified column from a given nested list.\n",
    "    Data:\n",
    "        Original Nested list:\n",
    "        [[1, 2, 3], [2, 4, 5], [1, 1, 1]]\n",
    "        [[1, 2, 3], [-2, 4, -5], [1, -1, 1]]\n",
    "    Expected Output:\n",
    "        Original Nested list:[[1, 2, 3], [2, 4, 5], [1, 1, 1]]\n",
    "        After removing 1st column:\n",
    "        [[2, 3], [4, 5], [1, 1]]\n",
    "        Original Nested list:[[1, 2, 3], [-2, 4, -5], [1, -1, 1]]\n",
    "        After removing 3rd column:\n",
    "        [[1, 2], [-2, 4], [1, -1]]\n",
    "        \n",
    "        \n",
    "        \n",
    "        "
   ]
  }
 ],
 "metadata": {
  "kernelspec": {
   "display_name": "Python 3",
   "language": "python",
   "name": "python3"
  },
  "language_info": {
   "codemirror_mode": {
    "name": "ipython",
    "version": 3
   },
   "file_extension": ".py",
   "mimetype": "text/x-python",
   "name": "python",
   "nbconvert_exporter": "python",
   "pygments_lexer": "ipython3",
   "version": "3.8.5"
  }
 },
 "nbformat": 4,
 "nbformat_minor": 4
}
